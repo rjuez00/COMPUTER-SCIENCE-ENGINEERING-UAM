{
 "cells": [
  {
   "cell_type": "markdown",
   "metadata": {
    "colab_type": "text",
    "id": "5QZv0KWtnzyA"
   },
   "source": [
    "## 3. Clasificación de caracteres manuscritos (OCR) (OPCIONAL)"
   ]
  },
  {
   "cell_type": "markdown",
   "metadata": {},
   "source": [
    "En este apartado entrenaremos una red neuronal para que aprenda a clasificar automáticamente imágenes de dígitos escritos a mano. Este es un ejemplo de OCR (Optical Character Recognition) que utilizan empresas como Correos para interpretar automáticamente los datos de remitente escritos a mano en el sobre, previamente capturados con una cámara."
   ]
  },
  {
   "cell_type": "code",
   "execution_count": 1,
   "metadata": {
    "colab": {},
    "colab_type": "code",
    "id": "3WoEHYtK5lZO"
   },
   "outputs": [],
   "source": [
    "import matplotlib.pyplot as plt\n",
    "from sklearn.datasets import fetch_openml\n",
    "import numpy as np\n",
    "\n",
    "%matplotlib inline"
   ]
  },
  {
   "cell_type": "markdown",
   "metadata": {
    "colab_type": "text",
    "id": "QwqVNXHb5lZa"
   },
   "source": [
    "## 3.1. Carga de datos"
   ]
  },
  {
   "cell_type": "markdown",
   "metadata": {},
   "source": [
    "Usaremos la base de datos **MNIST**, muy usada en Machine Learning para poner a prueba algoritmos. A continuación la cargamos:"
   ]
  },
  {
   "cell_type": "code",
   "execution_count": 2,
   "metadata": {
    "colab": {},
    "colab_type": "code",
    "id": "MgAKDP665lZd"
   },
   "outputs": [],
   "source": [
    "X, y = fetch_openml('mnist_784', version=1, return_X_y=True)\n",
    "X = X / 255. # reescalado de datos para que los datos de píxeles vayan de 0 a 1\n",
    "y = y.astype(int) # las etiquetas leídas son de tipo str: las convertimos a int"
   ]
  },
  {
   "cell_type": "code",
   "execution_count": 3,
   "metadata": {
    "colab": {
     "base_uri": "https://localhost:8080/",
     "height": 105
    },
    "colab_type": "code",
    "executionInfo": {
     "elapsed": 20348,
     "status": "ok",
     "timestamp": 1573029625657,
     "user": {
      "displayName": "Manuel Sánchez-Montañés",
      "photoUrl": "",
      "userId": "17112108692206476645"
     },
     "user_tz": -60
    },
    "id": "1esl-fKD5lZp",
    "outputId": "e0255334-ee29-44b0-e66e-95b05723d387"
   },
   "outputs": [
    {
     "name": "stdout",
     "output_type": "stream",
     "text": [
      "<class 'pandas.core.frame.DataFrame'>\n",
      "(70000, 784)\n",
      "<class 'pandas.core.series.Series'>\n",
      "(70000,)\n",
      "0    5\n",
      "1    0\n",
      "2    4\n",
      "3    1\n",
      "4    9\n",
      "5    2\n",
      "6    1\n",
      "7    3\n",
      "8    1\n",
      "9    4\n",
      "Name: class, dtype: int32\n"
     ]
    }
   ],
   "source": [
    "print(type(X))\n",
    "print(X.shape)\n",
    "print(type(y))\n",
    "print(y.shape)\n",
    "\n",
    "print(y[:10])"
   ]
  },
  {
   "cell_type": "code",
   "execution_count": 4,
   "metadata": {
    "colab": {
     "base_uri": "https://localhost:8080/",
     "height": 35
    },
    "colab_type": "code",
    "executionInfo": {
     "elapsed": 20337,
     "status": "ok",
     "timestamp": 1573029625659,
     "user": {
      "displayName": "Manuel Sánchez-Montañés",
      "photoUrl": "",
      "userId": "17112108692206476645"
     },
     "user_tz": -60
    },
    "id": "rlkA3Uhi5lZu",
    "outputId": "d8537ff1-55b4-4d46-877d-5a7a277344c3"
   },
   "outputs": [
    {
     "data": {
      "text/plain": [
       "array([0, 1, 2, 3, 4, 5, 6, 7, 8, 9])"
      ]
     },
     "execution_count": 4,
     "metadata": {},
     "output_type": "execute_result"
    }
   ],
   "source": [
    "n_clases = len(np.unique(y))\n",
    "np.unique(y)"
   ]
  },
  {
   "cell_type": "code",
   "execution_count": 5,
   "metadata": {
    "colab": {
     "base_uri": "https://localhost:8080/",
     "height": 122
    },
    "colab_type": "code",
    "executionInfo": {
     "elapsed": 20804,
     "status": "ok",
     "timestamp": 1573029626157,
     "user": {
      "displayName": "Manuel Sánchez-Montañés",
      "photoUrl": "",
      "userId": "17112108692206476645"
     },
     "user_tz": -60
    },
    "id": "i4XLhhEG5lZ_",
    "outputId": "d993b23b-0c70-418a-a20d-f9ed48fb9715"
   },
   "outputs": [
    {
     "name": "stdout",
     "output_type": "stream",
     "text": [
      "(52500, 784)\n",
      "(52500,)\n",
      "(17500, 784)\n",
      "(17500,)\n"
     ]
    },
    {
     "data": {
      "text/plain": [
       "(pixel1      0.0\n",
       " pixel2      0.0\n",
       " pixel3      0.0\n",
       " pixel4      0.0\n",
       " pixel5      0.0\n",
       "            ... \n",
       " pixel780    0.0\n",
       " pixel781    0.0\n",
       " pixel782    0.0\n",
       " pixel783    0.0\n",
       " pixel784    0.0\n",
       " Length: 784, dtype: float64,\n",
       " pixel1      0.000000\n",
       " pixel2      0.000000\n",
       " pixel3      0.000000\n",
       " pixel4      0.000000\n",
       " pixel5      0.000000\n",
       "               ...   \n",
       " pixel780    0.243137\n",
       " pixel781    0.000000\n",
       " pixel782    0.000000\n",
       " pixel783    0.000000\n",
       " pixel784    0.000000\n",
       " Length: 784, dtype: float64)"
      ]
     },
     "execution_count": 5,
     "metadata": {},
     "output_type": "execute_result"
    }
   ],
   "source": [
    "from sklearn.model_selection import train_test_split\n",
    "\n",
    "X_train, X_test, y_train, y_test = train_test_split(X, y, test_size=0.25,\n",
    "                                                    random_state=1)\n",
    "\n",
    "print(X_train.shape)\n",
    "print(y_train.shape)\n",
    "print(X_test.shape)\n",
    "print(y_test.shape)\n",
    "\n",
    "X.min(), X.max()"
   ]
  },
  {
   "cell_type": "code",
   "execution_count": 6,
   "metadata": {
    "colab": {
     "base_uri": "https://localhost:8080/",
     "height": 1000
    },
    "colab_type": "code",
    "executionInfo": {
     "elapsed": 21668,
     "status": "ok",
     "timestamp": 1573029627031,
     "user": {
      "displayName": "Manuel Sánchez-Montañés",
      "photoUrl": "",
      "userId": "17112108692206476645"
     },
     "user_tz": -60
    },
    "id": "y49O1lHj5laD",
    "outputId": "bc0f2b8b-4564-4e79-c2b1-6bd28bdbfdb1"
   },
   "outputs": [
    {
     "data": {
      "image/png": "[encoded data removed]",
      "text/plain": [
       "<Figure size 504x504 with 16 Axes>"
      ]
     },
     "metadata": {},
     "output_type": "display_data"
    }
   ],
   "source": [
    "plt.figure(figsize=(7,7))\n",
    "primero = 5000\n",
    "for i in range(16):\n",
    "    plt.subplot(4,4,i+1)\n",
    "    # plt.imshow(X_train[primero+i].reshape(28, 28), cmap=plt.cm.gray)\n",
    "    plt.imshow(X_train.iloc[primero+i].to_numpy().reshape(28, 28), cmap=plt.cm.gray)\n",
    "    plt.title(\"y={}\".format(y_train.iloc[primero+i]))\n",
    "    plt.xticks([])\n",
    "    plt.yticks([])"
   ]
  },
  {
   "cell_type": "markdown",
   "metadata": {
    "colab_type": "text",
    "id": "ebD8M0fJ5laJ"
   },
   "source": [
    "## 3.2. Construcción de la Red neuronal"
   ]
  },
  {
   "cell_type": "code",
   "execution_count": 7,
   "metadata": {
    "colab": {},
    "colab_type": "code",
    "id": "5lPZUg_x2Brd"
   },
   "outputs": [],
   "source": [
    "from sklearn.neural_network import MLPClassifier"
   ]
  },
  {
   "cell_type": "code",
   "execution_count": 8,
   "metadata": {
    "colab": {},
    "colab_type": "code",
    "id": "umOAbAZA5laK"
   },
   "outputs": [
    {
     "data": {
      "text/plain": [
       "MLPClassifier(alpha=0.05, hidden_layer_sizes=(50,), max_iter=10000)"
      ]
     },
     "execution_count": 8,
     "metadata": {},
     "output_type": "execute_result"
    }
   ],
   "source": [
    "# Rellena esta casilla con código para crear y entrenar\n",
    "# un objeto de nombre MLP y clase MLPClassifier. Usa una capa oculta y 50 neuronas. \n",
    "\n",
    "MLP = MLPClassifier(hidden_layer_sizes=(50, ), max_iter=10000, alpha=0.05)\n",
    "\n",
    "MLP.fit(X_train, y_train)"
   ]
  },
  {
   "cell_type": "markdown",
   "metadata": {},
   "source": [
    "Calcula en la siguiente casilla los scores en training y test."
   ]
  },
  {
   "cell_type": "code",
   "execution_count": 9,
   "metadata": {},
   "outputs": [
    {
     "name": "stdout",
     "output_type": "stream",
     "text": [
      "Training:\n",
      "Accuracy:  0.9971809523809524\n",
      "Confusion matrix:  [[5172    0    3    0    0    2    1    0    0    3]\n",
      " [   0 5855    2    0    1    0    1    5    3    3]\n",
      " [   0    0 5184    1    3    0    0    1    2    0]\n",
      " [   0    0    2 5332    0    3    0    1   11    4]\n",
      " [   0    1    0    0 5121    0    1    1    0   10]\n",
      " [   3    0    1    1    0 4679    2    0    2    3]\n",
      " [   3    1    0    0    4    7 5189    0    3    0]\n",
      " [   1    9    9    1    3    0    0 5460    0   12]\n",
      " [   1    2    2    0    0    1    0    0 5109    2]\n",
      " [   1    0    0    1    2    4    0    0    2 5251]]\n",
      "\n",
      "\n",
      "Test:\n",
      "Accuracy:  0.9755428571428572\n",
      "Confusion matrix:  [[1686    0    7    1    0    2   10    1   11    4]\n",
      " [   0 1984   11    4    1    0    0    5    0    2]\n",
      " [   4    4 1748   13    4    1    2    8   11    4]\n",
      " [   3    2   18 1709    1   22    1   11   11   10]\n",
      " [   1    4    1    0 1648    0    1    4    2   29]\n",
      " [   2    1    0   12    0 1580    8    1   10    8]\n",
      " [   3    0    4    0    1    7 1648    0    6    0]\n",
      " [   0    1    7    4    3    2    0 1757    4   20]\n",
      " [   6    8    2    7    4   13    3    1 1658    6]\n",
      " [   3    1    1    4   14    3    0    8    9 1654]]\n"
     ]
    }
   ],
   "source": [
    "from sklearn.metrics import accuracy_score, precision_score, recall_score, f1_score, confusion_matrix\n",
    "\n",
    "\n",
    "predict_train = MLP.predict(X_train)\n",
    "predict_test = MLP.predict(X_test)\n",
    "\n",
    "print(\"Training:\")\n",
    "print(\"Accuracy: \", accuracy_score(y_train, predict_train))\n",
    "print(\"Confusion matrix: \", confusion_matrix(y_train, predict_train))\n",
    "\n",
    "print(\"\\n\\nTest:\")\n",
    "print(\"Accuracy: \", accuracy_score(y_test, predict_test))\n",
    "print(\"Confusion matrix: \", confusion_matrix(y_test, predict_test))"
   ]
  },
  {
   "cell_type": "markdown",
   "metadata": {},
   "source": [
    "## 3.3 Búsqueda en rejilla."
   ]
  },
  {
   "cell_type": "markdown",
   "metadata": {},
   "source": [
    "¿Opinas que otra configuración de los hiper-parámetros puede resolver el problema mas eficientemente? Es lo mas probable. Vamos ahora a cambiar el valor de los hiper-parámetros de la red neuronal y a devolver como red definitiva la que minimize la estimación del error de generalización. Para ello hay que hacer dos cosas. La primera, cambiar el modo en el que estimamos el error de generalización. Si basamos nuestro resultado en el error proporcionado por el test, haremos overfitting en el conjunto de test. Por ello debemos cambiar esta estimación. Estimaremos el error de generalización de cada red usando Nested Cross Validation. Por otro lado, haremos una búsqueda en rejilla de los hiper-parámetros óptimos. Devolveremos el valor de los hiper-parámetros que optimize esa estimación del error de la red. Adapta el código que encontrarás en https://scikit-learn.org/stable/auto_examples/model_selection/plot_nested_cross_validation_iris.html al problema MNIST y al espacio de hiper-parámetros de la red neuronal (cambiando el valor de la variable p_grid). Prueba a incluir en la rejilla el número de capas ocultas, el número de neuronas de las capas ocultas (haz que todas tengan el mismo número), la tasa de aprendizaje o la función de activación. Recuerda que en https://scikit-learn.org/stable/modules/generated/sklearn.neural_network.MLPClassifier.html tienes información sobre cada uno de los hiper-parámetros. Eres libre de elegir los valores y los hiper-parámetros que consideres. Antes de configurar la rejilla, lee un poco sobre cada uno de los hiper-parámetros para asegurarte de que tiene sentido tu búsqueda."
   ]
  },
  {
   "cell_type": "code",
   "execution_count": 17,
   "metadata": {},
   "outputs": [
    {
     "name": "stdout",
     "output_type": "stream",
     "text": [
      "Fitting 4 folds for each of 16 candidates, totalling 64 fits\n",
      "[CV] END activation=tanh, alpha=0, hidden_layer_sizes=(50, 50, 50, 50, 50), learning_rate_init=0.001; total time= 2.4min\n",
      "[CV] END activation=tanh, alpha=0, hidden_layer_sizes=(50, 50, 50, 50, 50), learning_rate_init=0.001; total time= 2.6min\n",
      "[CV] END activation=tanh, alpha=0, hidden_layer_sizes=(50, 50, 50, 50, 50), learning_rate_init=0.001; total time= 2.0min\n",
      "[CV] END activation=tanh, alpha=0, hidden_layer_sizes=(50, 50, 50, 50, 50), learning_rate_init=0.001; total time= 2.6min\n",
      "[CV] END activation=tanh, alpha=0, hidden_layer_sizes=(50, 50, 50, 50, 50), learning_rate_init=0.01; total time= 1.1min\n",
      "[CV] END activation=tanh, alpha=0, hidden_layer_sizes=(50, 50, 50, 50, 50), learning_rate_init=0.01; total time=  57.2s\n",
      "[CV] END activation=tanh, alpha=0, hidden_layer_sizes=(50, 50, 50, 50, 50), learning_rate_init=0.01; total time= 1.0min\n",
      "[CV] END activation=tanh, alpha=0, hidden_layer_sizes=(50, 50, 50, 50, 50), learning_rate_init=0.01; total time= 1.1min\n",
      "[CV] END activation=tanh, alpha=0, hidden_layer_sizes=(50, 10, 50), learning_rate_init=0.001; total time= 1.9min\n",
      "[CV] END activation=tanh, alpha=0, hidden_layer_sizes=(50, 10, 50), learning_rate_init=0.001; total time= 2.3min\n",
      "[CV] END activation=tanh, alpha=0, hidden_layer_sizes=(50, 10, 50), learning_rate_init=0.001; total time= 2.0min\n",
      "[CV] END activation=tanh, alpha=0, hidden_layer_sizes=(50, 10, 50), learning_rate_init=0.001; total time= 2.1min\n",
      "[CV] END activation=tanh, alpha=0, hidden_layer_sizes=(50, 10, 50), learning_rate_init=0.01; total time= 1.8min\n",
      "[CV] END activation=tanh, alpha=0, hidden_layer_sizes=(50, 10, 50), learning_rate_init=0.01; total time= 2.9min\n",
      "[CV] END activation=tanh, alpha=0, hidden_layer_sizes=(50, 10, 50), learning_rate_init=0.01; total time= 4.1min\n",
      "[CV] END activation=tanh, alpha=0, hidden_layer_sizes=(50, 10, 50), learning_rate_init=0.01; total time= 1.8min\n",
      "[CV] END activation=tanh, alpha=0.1, hidden_layer_sizes=(50, 50, 50, 50, 50), learning_rate_init=0.001; total time= 3.9min\n",
      "[CV] END activation=tanh, alpha=0.1, hidden_layer_sizes=(50, 50, 50, 50, 50), learning_rate_init=0.001; total time= 4.8min\n",
      "[CV] END activation=tanh, alpha=0.1, hidden_layer_sizes=(50, 50, 50, 50, 50), learning_rate_init=0.001; total time= 2.4min\n",
      "[CV] END activation=tanh, alpha=0.1, hidden_layer_sizes=(50, 50, 50, 50, 50), learning_rate_init=0.001; total time= 4.2min\n",
      "[CV] END activation=tanh, alpha=0.1, hidden_layer_sizes=(50, 50, 50, 50, 50), learning_rate_init=0.01; total time= 2.0min\n",
      "[CV] END activation=tanh, alpha=0.1, hidden_layer_sizes=(50, 50, 50, 50, 50), learning_rate_init=0.01; total time= 3.0min\n",
      "[CV] END activation=tanh, alpha=0.1, hidden_layer_sizes=(50, 50, 50, 50, 50), learning_rate_init=0.01; total time= 2.2min\n",
      "[CV] END activation=tanh, alpha=0.1, hidden_layer_sizes=(50, 50, 50, 50, 50), learning_rate_init=0.01; total time= 3.2min\n",
      "[CV] END activation=tanh, alpha=0.1, hidden_layer_sizes=(50, 10, 50), learning_rate_init=0.001; total time= 3.6min\n",
      "[CV] END activation=tanh, alpha=0.1, hidden_layer_sizes=(50, 10, 50), learning_rate_init=0.001; total time= 3.3min\n",
      "[CV] END activation=tanh, alpha=0.1, hidden_layer_sizes=(50, 10, 50), learning_rate_init=0.001; total time= 1.9min\n",
      "[CV] END activation=tanh, alpha=0.1, hidden_layer_sizes=(50, 10, 50), learning_rate_init=0.001; total time= 3.5min\n",
      "[CV] END activation=tanh, alpha=0.1, hidden_layer_sizes=(50, 10, 50), learning_rate_init=0.01; total time= 1.6min\n",
      "[CV] END activation=tanh, alpha=0.1, hidden_layer_sizes=(50, 10, 50), learning_rate_init=0.01; total time=  59.5s\n",
      "[CV] END activation=tanh, alpha=0.1, hidden_layer_sizes=(50, 10, 50), learning_rate_init=0.01; total time= 1.3min\n",
      "[CV] END activation=tanh, alpha=0.1, hidden_layer_sizes=(50, 10, 50), learning_rate_init=0.01; total time=  57.5s\n",
      "[CV] END activation=relu, alpha=0, hidden_layer_sizes=(50, 50, 50, 50, 50), learning_rate_init=0.001; total time= 2.7min\n",
      "[CV] END activation=relu, alpha=0, hidden_layer_sizes=(50, 50, 50, 50, 50), learning_rate_init=0.001; total time= 2.0min\n",
      "[CV] END activation=relu, alpha=0, hidden_layer_sizes=(50, 50, 50, 50, 50), learning_rate_init=0.001; total time= 1.7min\n",
      "[CV] END activation=relu, alpha=0, hidden_layer_sizes=(50, 50, 50, 50, 50), learning_rate_init=0.001; total time= 2.8min\n",
      "[CV] END activation=relu, alpha=0, hidden_layer_sizes=(50, 50, 50, 50, 50), learning_rate_init=0.01; total time= 1.6min\n",
      "[CV] END activation=relu, alpha=0, hidden_layer_sizes=(50, 50, 50, 50, 50), learning_rate_init=0.01; total time= 2.5min\n",
      "[CV] END activation=relu, alpha=0, hidden_layer_sizes=(50, 50, 50, 50, 50), learning_rate_init=0.01; total time= 3.1min\n",
      "[CV] END activation=relu, alpha=0, hidden_layer_sizes=(50, 50, 50, 50, 50), learning_rate_init=0.01; total time= 2.0min\n",
      "[CV] END activation=relu, alpha=0, hidden_layer_sizes=(50, 10, 50), learning_rate_init=0.001; total time= 1.6min\n",
      "[CV] END activation=relu, alpha=0, hidden_layer_sizes=(50, 10, 50), learning_rate_init=0.001; total time= 2.1min\n",
      "[CV] END activation=relu, alpha=0, hidden_layer_sizes=(50, 10, 50), learning_rate_init=0.001; total time= 2.0min\n",
      "[CV] END activation=relu, alpha=0, hidden_layer_sizes=(50, 10, 50), learning_rate_init=0.001; total time= 2.2min\n",
      "[CV] END activation=relu, alpha=0, hidden_layer_sizes=(50, 10, 50), learning_rate_init=0.01; total time= 2.0min\n",
      "[CV] END activation=relu, alpha=0, hidden_layer_sizes=(50, 10, 50), learning_rate_init=0.01; total time= 1.9min\n",
      "[CV] END activation=relu, alpha=0, hidden_layer_sizes=(50, 10, 50), learning_rate_init=0.01; total time= 2.4min\n",
      "[CV] END activation=relu, alpha=0, hidden_layer_sizes=(50, 10, 50), learning_rate_init=0.01; total time= 2.4min\n",
      "[CV] END activation=relu, alpha=0.1, hidden_layer_sizes=(50, 50, 50, 50, 50), learning_rate_init=0.001; total time= 3.5min\n",
      "[CV] END activation=relu, alpha=0.1, hidden_layer_sizes=(50, 50, 50, 50, 50), learning_rate_init=0.001; total time= 3.7min\n",
      "[CV] END activation=relu, alpha=0.1, hidden_layer_sizes=(50, 50, 50, 50, 50), learning_rate_init=0.001; total time= 4.1min\n",
      "[CV] END activation=relu, alpha=0.1, hidden_layer_sizes=(50, 50, 50, 50, 50), learning_rate_init=0.001; total time= 3.1min\n",
      "[CV] END activation=relu, alpha=0.1, hidden_layer_sizes=(50, 50, 50, 50, 50), learning_rate_init=0.01; total time= 3.1min\n",
      "[CV] END activation=relu, alpha=0.1, hidden_layer_sizes=(50, 50, 50, 50, 50), learning_rate_init=0.01; total time= 2.5min\n",
      "[CV] END activation=relu, alpha=0.1, hidden_layer_sizes=(50, 50, 50, 50, 50), learning_rate_init=0.01; total time= 3.4min\n",
      "[CV] END activation=relu, alpha=0.1, hidden_layer_sizes=(50, 50, 50, 50, 50), learning_rate_init=0.01; total time= 3.1min\n",
      "[CV] END activation=relu, alpha=0.1, hidden_layer_sizes=(50, 10, 50), learning_rate_init=0.001; total time= 3.0min\n",
      "[CV] END activation=relu, alpha=0.1, hidden_layer_sizes=(50, 10, 50), learning_rate_init=0.001; total time= 2.1min\n",
      "[CV] END activation=relu, alpha=0.1, hidden_layer_sizes=(50, 10, 50), learning_rate_init=0.001; total time= 2.0min\n",
      "[CV] END activation=relu, alpha=0.1, hidden_layer_sizes=(50, 10, 50), learning_rate_init=0.001; total time= 3.0min\n",
      "[CV] END activation=relu, alpha=0.1, hidden_layer_sizes=(50, 10, 50), learning_rate_init=0.01; total time= 1.9min\n",
      "[CV] END activation=relu, alpha=0.1, hidden_layer_sizes=(50, 10, 50), learning_rate_init=0.01; total time= 1.5min\n",
      "[CV] END activation=relu, alpha=0.1, hidden_layer_sizes=(50, 10, 50), learning_rate_init=0.01; total time= 2.3min\n",
      "[CV] END activation=relu, alpha=0.1, hidden_layer_sizes=(50, 10, 50), learning_rate_init=0.01; total time= 1.2min\n"
     ]
    }
   ],
   "source": [
    "from sklearn.model_selection import GridSearchCV, cross_val_score, KFold\n",
    "# Number of random trials\n",
    "\n",
    "p_grid = {\"activation\": [\"tanh\", \"relu\"],\n",
    "          \"alpha\": [0, 0.1],\n",
    "          \"learning_rate_init\":[0.001, 0.01],\n",
    "          \"hidden_layer_sizes\": [(50,50,50,50,50,), (50,10,50,)]}\n",
    "\n",
    "\n",
    "\n",
    "# Choose cross-validation techniques for the inner and outer loops,\n",
    "# independently of the dataset.\n",
    "# E.g \"GroupKFold\", \"LeaveOneOut\", \"LeaveOneGroupOut\", etc.\n",
    "inner_cv = KFold(n_splits=4, shuffle=True, random_state=30)\n",
    "outer_cv = KFold(n_splits=4, shuffle=True, random_state=30)\n",
    "\n",
    "# Non_nested parameter search and scoring\n",
    "clf = GridSearchCV(estimator=MLP, param_grid=p_grid, cv=inner_cv, verbose=2)\n",
    "clf.fit(X, y)\n",
    "non_nested_scores = clf.best_score_\n",
    " \n"
   ]
  },
  {
   "cell_type": "code",
   "execution_count": 21,
   "metadata": {},
   "outputs": [
    {
     "name": "stdout",
     "output_type": "stream",
     "text": [
      "{'mean_fit_time': array([144.23682892,  62.7955327 , 123.82683438, 158.68563604,\n",
      "       229.14554197, 156.50367701, 184.13029182,  72.60709578,\n",
      "       138.69637865, 137.7632522 , 119.60314393, 130.75781864,\n",
      "       214.76809436, 182.72860897, 152.44832772, 104.98237914]), 'std_fit_time': array([14.84837187,  4.24701634,  8.7787575 , 56.95537328, 53.68625802,\n",
      "       30.22800512, 42.7235824 , 15.48828982, 26.34119846, 32.20676997,\n",
      "       13.72916778, 12.75371175, 21.37137924, 20.24705396, 28.38352662,\n",
      "       23.76093202]), 'mean_score_time': array([0.29944164, 0.24186093, 0.16865283, 0.15179163, 0.22936815,\n",
      "       0.23712689, 0.14641541, 0.14191902, 0.17914569, 0.15640885,\n",
      "       0.11743158, 0.11443371, 0.21287823, 0.20313305, 0.13567173,\n",
      "       0.14941365]), 'std_score_time': array([0.02171219, 0.00353356, 0.01555354, 0.00246005, 0.01531047,\n",
      "       0.01515587, 0.0054966 , 0.00099993, 0.02411497, 0.0021787 ,\n",
      "       0.00402854, 0.00049943, 0.01946893, 0.02497935, 0.01378267,\n",
      "       0.04248754]), 'param_activation': masked_array(data=['tanh', 'tanh', 'tanh', 'tanh', 'tanh', 'tanh', 'tanh',\n",
      "                   'tanh', 'relu', 'relu', 'relu', 'relu', 'relu', 'relu',\n",
      "                   'relu', 'relu'],\n",
      "             mask=[False, False, False, False, False, False, False, False,\n",
      "                   False, False, False, False, False, False, False, False],\n",
      "       fill_value='?',\n",
      "            dtype=object), 'param_alpha': masked_array(data=[0, 0, 0, 0, 0.1, 0.1, 0.1, 0.1, 0, 0, 0, 0, 0.1, 0.1,\n",
      "                   0.1, 0.1],\n",
      "             mask=[False, False, False, False, False, False, False, False,\n",
      "                   False, False, False, False, False, False, False, False],\n",
      "       fill_value='?',\n",
      "            dtype=object), 'param_hidden_layer_sizes': masked_array(data=[(50, 50, 50, 50, 50), (50, 50, 50, 50, 50),\n",
      "                   (50, 10, 50), (50, 10, 50), (50, 50, 50, 50, 50),\n",
      "                   (50, 50, 50, 50, 50), (50, 10, 50), (50, 10, 50),\n",
      "                   (50, 50, 50, 50, 50), (50, 50, 50, 50, 50),\n",
      "                   (50, 10, 50), (50, 10, 50), (50, 50, 50, 50, 50),\n",
      "                   (50, 50, 50, 50, 50), (50, 10, 50), (50, 10, 50)],\n",
      "             mask=[False, False, False, False, False, False, False, False,\n",
      "                   False, False, False, False, False, False, False, False],\n",
      "       fill_value='?',\n",
      "            dtype=object), 'param_learning_rate_init': masked_array(data=[0.001, 0.01, 0.001, 0.01, 0.001, 0.01, 0.001, 0.01,\n",
      "                   0.001, 0.01, 0.001, 0.01, 0.001, 0.01, 0.001, 0.01],\n",
      "             mask=[False, False, False, False, False, False, False, False,\n",
      "                   False, False, False, False, False, False, False, False],\n",
      "       fill_value='?',\n",
      "            dtype=object), 'params': [{'activation': 'tanh', 'alpha': 0, 'hidden_layer_sizes': (50, 50, 50, 50, 50), 'learning_rate_init': 0.001}, {'activation': 'tanh', 'alpha': 0, 'hidden_layer_sizes': (50, 50, 50, 50, 50), 'learning_rate_init': 0.01}, {'activation': 'tanh', 'alpha': 0, 'hidden_layer_sizes': (50, 10, 50), 'learning_rate_init': 0.001}, {'activation': 'tanh', 'alpha': 0, 'hidden_layer_sizes': (50, 10, 50), 'learning_rate_init': 0.01}, {'activation': 'tanh', 'alpha': 0.1, 'hidden_layer_sizes': (50, 50, 50, 50, 50), 'learning_rate_init': 0.001}, {'activation': 'tanh', 'alpha': 0.1, 'hidden_layer_sizes': (50, 50, 50, 50, 50), 'learning_rate_init': 0.01}, {'activation': 'tanh', 'alpha': 0.1, 'hidden_layer_sizes': (50, 10, 50), 'learning_rate_init': 0.001}, {'activation': 'tanh', 'alpha': 0.1, 'hidden_layer_sizes': (50, 10, 50), 'learning_rate_init': 0.01}, {'activation': 'relu', 'alpha': 0, 'hidden_layer_sizes': (50, 50, 50, 50, 50), 'learning_rate_init': 0.001}, {'activation': 'relu', 'alpha': 0, 'hidden_layer_sizes': (50, 50, 50, 50, 50), 'learning_rate_init': 0.01}, {'activation': 'relu', 'alpha': 0, 'hidden_layer_sizes': (50, 10, 50), 'learning_rate_init': 0.001}, {'activation': 'relu', 'alpha': 0, 'hidden_layer_sizes': (50, 10, 50), 'learning_rate_init': 0.01}, {'activation': 'relu', 'alpha': 0.1, 'hidden_layer_sizes': (50, 50, 50, 50, 50), 'learning_rate_init': 0.001}, {'activation': 'relu', 'alpha': 0.1, 'hidden_layer_sizes': (50, 50, 50, 50, 50), 'learning_rate_init': 0.01}, {'activation': 'relu', 'alpha': 0.1, 'hidden_layer_sizes': (50, 10, 50), 'learning_rate_init': 0.001}, {'activation': 'relu', 'alpha': 0.1, 'hidden_layer_sizes': (50, 10, 50), 'learning_rate_init': 0.01}], 'split0_test_score': array([0.97491429, 0.9508    , 0.96914286, 0.95691429, 0.9764    ,\n",
      "       0.93771429, 0.97445714, 0.95805714, 0.97102857, 0.96845714,\n",
      "       0.96948571, 0.96497143, 0.97085714, 0.96022857, 0.97331429,\n",
      "       0.966     ]), 'split1_test_score': array([0.97228571, 0.94657143, 0.96771429, 0.95845714, 0.97348571,\n",
      "       0.95125714, 0.97371429, 0.95182857, 0.972     , 0.96828571,\n",
      "       0.97017143, 0.96645714, 0.97411429, 0.95194286, 0.9708    ,\n",
      "       0.95485714]), 'split2_test_score': array([0.97011429, 0.94257143, 0.96657143, 0.95811429, 0.97245714,\n",
      "       0.95274286, 0.97005714, 0.93097143, 0.97034286, 0.97051429,\n",
      "       0.96908571, 0.96257143, 0.97331429, 0.96222857, 0.9704    ,\n",
      "       0.9528    ]), 'split3_test_score': array([0.97342857, 0.93851429, 0.96662857, 0.95874286, 0.97485714,\n",
      "       0.95068571, 0.97434286, 0.94862857, 0.96737143, 0.96731429,\n",
      "       0.9628    , 0.96417143, 0.9704    , 0.96062857, 0.97068571,\n",
      "       0.95268571]), 'mean_test_score': array([0.97268571, 0.94461429, 0.96751429, 0.95805714, 0.9743    ,\n",
      "       0.9481    , 0.97314286, 0.94737143, 0.97018571, 0.96864286,\n",
      "       0.96788571, 0.96454286, 0.97217143, 0.95875714, 0.9713    ,\n",
      "       0.95658571]), 'std_test_score': array([0.0017529 , 0.00456828, 0.00104471, 0.00069635, 0.00148152,\n",
      "       0.00604303, 0.00180385, 0.01005722, 0.00172822, 0.00116505,\n",
      "       0.0029618 , 0.00140291, 0.00157687, 0.00400477, 0.00117204,\n",
      "       0.0055036 ]), 'rank_test_score': array([ 3, 16,  9, 12,  1, 14,  2, 15,  6,  7,  8, 10,  4, 11,  5, 13])}\n"
     ]
    }
   ],
   "source": [
    "print(clf.cv_results_)\n",
    "    "
   ]
  },
  {
   "cell_type": "code",
   "execution_count": null,
   "metadata": {},
   "outputs": [],
   "source": []
  }
 ],
 "metadata": {
  "colab": {
   "collapsed_sections": [],
   "name": "01-nn_mnist_clasificacion_ML.ipynb",
   "provenance": []
  },
  "kernelspec": {
   "display_name": "Python 3",
   "language": "python",
   "name": "python3"
  },
  "language_info": {
   "codemirror_mode": {
    "name": "ipython",
    "version": 3
   },
   "file_extension": ".py",
   "mimetype": "text/x-python",
   "name": "python",
   "nbconvert_exporter": "python",
   "pygments_lexer": "ipython3",
   "version": "3.9.5"
  }
 },
 "nbformat": 4,
 "nbformat_minor": 1
}
