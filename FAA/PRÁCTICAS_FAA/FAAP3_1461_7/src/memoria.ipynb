{
 "cells": [
  {
   "cell_type": "markdown",
   "id": "9ff693f6",
   "metadata": {},
   "source": [
    "# Práctica 3: Vecinos próximos y k-means\n",
    "## Autores: Alejandro Benimeli Miranda y Rodrigo Juez Hernández"
   ]
  },
  {
   "cell_type": "code",
   "execution_count": 1,
   "id": "9693cfe6",
   "metadata": {
    "scrolled": true
   },
   "outputs": [],
   "source": [
    "from sklearn.linear_model import LogisticRegression, SGDClassifier\n",
    "from sklearn.metrics import confusion_matrix\n",
    "from sklearn.model_selection import cross_val_score, train_test_split\n",
    "import sklearn.cluster\n",
    "import numpy as np\n",
    "import pandas as pd\n",
    "import re\n",
    "import matplotlib.pyplot as plt\n",
    "\n",
    "#our implementation\n",
    "from Datos import Datos\n",
    "import EstrategiaParticionado\n",
    "from ClasificadorRegresionLogistica import *\n",
    "from ClasificadorNaiveBayes import *\n",
    "from ClasificadorKNN import *\n",
    "\n",
    "\n",
    "str_mean = \"{:.4f} ± {:.4f}\"\n",
    "tag_propia = \"Propia\"\n",
    "tag_sklearn = \"Sklearn\"\n",
    "regexrule_filename = \"../.*?/(.*?).data\"\n",
    "\n",
    "dataset1 = '../ConjuntosDatosP2Knn/wdbc.data'\n",
    "dataset2 = '../ConjuntosDatosP2Knn/pima-indians-diabetes.data'"
   ]
  },
  {
   "cell_type": "markdown",
   "id": "157eb5f1",
   "metadata": {},
   "source": [
    "# Ejecución Código"
   ]
  },
  {
   "cell_type": "markdown",
   "id": "993e82e1",
   "metadata": {},
   "source": [
    "## Logistic Regression Scores"
   ]
  },
  {
   "cell_type": "code",
   "execution_count": 2,
   "id": "ec4276f2",
   "metadata": {},
   "outputs": [],
   "source": [
    "def create_table(learning_rates, epochs, tag1, tag2):\n",
    "    y = range(0, 10)\n",
    "    def generate_multiindex(first_level, second_level):\n",
    "        y = [(i, j) for i in first_level for j in second_level]\n",
    "        return y\n",
    "\n",
    "\n",
    "    y = generate_multiindex(learning_rates, epochs)\n",
    "    namesy = [\"learn_rate\", \"n_epochs\"]\n",
    "\n",
    "    x = [(tag1, tag_propia),     (tag1, tag_sklearn),     (tag2, tag_propia),     (tag2, tag_sklearn)]\n",
    "    namesx = [\"dataset\", \"func\"]\n",
    "\n",
    "\n",
    "    return pd.DataFrame(index=pd.MultiIndex.from_tuples(y, names = namesy), columns=pd.MultiIndex.from_tuples(x, names = namesx), dtype=float)\n",
    "\n",
    "\n",
    "def compare_implementation_cross(learning_rate, n_epochs, cv, dataset_filename):\n",
    "    dataset = Datos(dataset_filename)\n",
    "    \n",
    "    data_sklearn = dataset.datos\n",
    "  \n",
    "    X = data_sklearn.loc[:, dataset.datos.columns != \"Class\"].to_numpy()\n",
    "    y = data_sklearn[\"Class\"].to_numpy()\n",
    "    \n",
    "    precisiones = cross_val_score(SGDClassifier(max_iter = n_epochs, learning_rate = \"constant\", eta0 = learning_rate), X, y, cv=cv)\n",
    "    skmean = 1 - np.mean(precisiones)\n",
    "    skstd = np.std(precisiones)\n",
    "\n",
    "    estrategia = EstrategiaParticionado.ValidacionCruzada(cv)\n",
    "    clasificador = ClasificadorRegresionLogistica(learn_rate=learning_rate, n_epocas=n_epochs)\n",
    "    mean, std = clasificador.validacion(estrategia,dataset,clasificador)\n",
    "\n",
    "    return str_mean.format(skmean, skstd), str_mean.format(mean, std)\n",
    "\n",
    "def final_table(cv = 5, learning_rates = [0.5, 0.8, 1], epochs = [100, 150, 200], filename1 = dataset1, filename2 = dataset2, debug = True):\n",
    "    tag1, tag2 = re.findall(regexrule_filename, filename1)[0], re.findall(regexrule_filename, filename2)[0]\n",
    "    dataframe = create_table(learning_rates, epochs, tag1, tag2)\n",
    "    \n",
    "    for filename,tag in zip([filename1, filename2],[tag1, tag2]):\n",
    "        None if debug == False else print(filename, \":\")\n",
    "        for learning_rate in learning_rates:\n",
    "            None if debug == False else print(\"\\tlearning_rate: \", learning_rate)\n",
    "            for epoch in epochs:\n",
    "                None if debug == False else print(\"\\t\\tepoch: \", epoch)\n",
    "                skres, ownres = compare_implementation_cross(learning_rate, epoch, cv, filename)\n",
    "                dataframe.loc[(learning_rate, epoch), (tag, tag_propia)] = ownres\n",
    "                dataframe.loc[(learning_rate, epoch), (tag, tag_sklearn)] = skres\n",
    "\n",
    "    return dataframe"
   ]
  },
  {
   "cell_type": "markdown",
   "id": "f720cc80",
   "metadata": {},
   "source": [
    "## Confusion Matrix"
   ]
  },
  {
   "cell_type": "code",
   "execution_count": 3,
   "id": "f283cb22",
   "metadata": {},
   "outputs": [],
   "source": [
    "TP = (\"Predicha\", \"1\"), (\"Real\", \"1\")\n",
    "FP = (\"Predicha\", \"1\"), (\"Real\", \"0\")\n",
    "FN = (\"Predicha\", \"0\"), (\"Real\", \"1\")\n",
    "TN = (\"Predicha\", \"0\"), (\"Real\", \"0\")\n",
    "\n",
    "def generate_confusion_matrix(cv, dataset_filename, clasificador):\n",
    "    x = [(\"Real\", \"1\"),\n",
    "         (\"Real\", \"0\")]\n",
    "    y = [(\"Predicha\", \"1\"),\n",
    "         (\"Predicha\", \"0\")]\n",
    "\n",
    "    row_list = pd.MultiIndex.from_tuples(y)\n",
    "    col_list = pd.MultiIndex.from_tuples(x)\n",
    "    confusion_matrix = pd.DataFrame(index=row_list, columns=col_list, dtype=int)\n",
    "    \n",
    "    confusion_matrix.loc[TP] = 0\n",
    "    confusion_matrix.loc[FP] = 0\n",
    "    confusion_matrix.loc[FN] = 0\n",
    "    confusion_matrix.loc[TN] = 0\n",
    "\n",
    "\n",
    "    dataset=Datos(dataset_filename)\n",
    "    estrategia=EstrategiaParticionado.ValidacionCruzada(cv)\n",
    "\n",
    "    valores_reales = []\n",
    "    predicciones = []\n",
    "    particiones = estrategia.creaParticiones(dataset)\n",
    "    for part in particiones:\n",
    "        datosTrain = dataset.extraeDatos(part.indicesTrain)\n",
    "        datosTest = dataset.extraeDatos(part.indicesTest)\n",
    "\n",
    "        clasificador.entrenamiento(datosTrain, dataset.nominalAtributos, dataset.diccionario)\n",
    "        valores_reales.extend(datosTest[\"Class\"].tolist())\n",
    "        predicciones.extend(clasificador.clasifica(datosTest, dataset.nominalAtributos, dataset.diccionario))\n",
    "\n",
    "    for pred, real in zip(predicciones, valores_reales):\n",
    "        confusion_matrix.loc[(\"Predicha\", str(int(pred))), (\"Real\", str(int(real)))] += 1\n",
    "\n",
    "    return confusion_matrix\n",
    "\n"
   ]
  },
  {
   "cell_type": "markdown",
   "id": "25d238ce",
   "metadata": {},
   "source": [
    "## ROC Space"
   ]
  },
  {
   "cell_type": "code",
   "execution_count": 15,
   "id": "c7bfd926",
   "metadata": {},
   "outputs": [],
   "source": [
    "def generate_roc_space(cv, dataset_filename, knn, nb, reglog):\n",
    "\n",
    "    x = []\n",
    "    y = []\n",
    "    \n",
    "    clasificadores = [knn, nb, reglog]\n",
    "    for clasificador in clasificadores:\n",
    "        matrix = generate_confusion_matrix(cv, dataset_filename, clasificador)\n",
    "\n",
    "        # FPR\n",
    "        x.append(matrix.loc[FP] / (matrix.loc[FP] + matrix.loc[TN]))\n",
    " \n",
    "        # TPR\n",
    "        y.append(matrix.loc[TP] / (matrix.loc[TP] + matrix.loc[FN]))\n",
    "\n",
    "    fig, ax = plt.subplots()\n",
    "    \n",
    "    # TODO: hacerlo mas modular? no asumir que los clasificadores vienen en ese orden\n",
    "    knn = plt.scatter(x[0], y[0], marker='o', color='r')\n",
    "    nb = plt.scatter(x[1], y[1], marker='o', color='g')\n",
    "    lr = plt.scatter(x[2], y[2], marker='o', color='b')\n",
    "\n",
    "    lims = [\n",
    "        np.min([ax.get_xlim(), ax.get_ylim()]),  # min of both axes\n",
    "        np.max([ax.get_xlim(), ax.get_ylim()]),  # max of both axes\n",
    "    ]\n",
    "\n",
    "    ax.plot([0, 1], [0, 1], 'k-', alpha=0.75, zorder=0)\n",
    "    ax.set_aspect('equal')\n",
    "    ax.set_xlim([0, 1])\n",
    "    ax.set_ylim([0, 1])\n",
    "    ax.set_title(f\"Espacio ROC {re.findall(regexrule_filename, dataset_filename)[0]}\")\n",
    "    ax.set_xlabel(\"FPR\")\n",
    "    ax.set_ylabel(\"TPR\")\n",
    "    ax.legend((knn, nb, lr),\n",
    "               ('KNN', 'Naive Bayes', 'Regresion Logistica'),\n",
    "               scatterpoints=1,\n",
    "               loc='lower right',\n",
    "               ncol=1,\n",
    "               fontsize=8)\n",
    "    "
   ]
  },
  {
   "cell_type": "markdown",
   "id": "3b76de05",
   "metadata": {},
   "source": [
    "## ROC Curve"
   ]
  },
  {
   "cell_type": "code",
   "execution_count": 12,
   "id": "56ae7706",
   "metadata": {},
   "outputs": [],
   "source": [
    "def generate_roc_curve(cv, dataset_filename, learn_rate, epochs):\n",
    "    dataset=Datos(dataset_filename)\n",
    "    estrategia=EstrategiaParticionado.ValidacionCruzada(cv)\n",
    "    clasificador=ClasificadorRegresionLogistica(learn_rate, epochs)\n",
    "\n",
    "    valores_reales = []\n",
    "    scores = []\n",
    "    particiones = estrategia.creaParticiones(dataset)\n",
    "    for part in particiones:\n",
    "        datosTrain = dataset.extraeDatos(part.indicesTrain)\n",
    "        datosTest = dataset.extraeDatos(part.indicesTest)\n",
    "\n",
    "        clasificador.entrenamiento(datosTrain, dataset.nominalAtributos, dataset.diccionario)\n",
    "        valores_reales.extend(datosTest[\"Class\"].tolist())\n",
    "        scores.extend(clasificador.confidence(datosTest))\n",
    "    \n",
    "    P = valores_reales.count(1)\n",
    "    N = valores_reales.count(0)\n",
    "    tp = 0\n",
    "    fp = 0\n",
    "    y_tp = 0\n",
    "    x_fp = 0\n",
    "    tmp = zip(valores_reales, scores)\n",
    "    x = []\n",
    "    y = []\n",
    "    for inst in sorted(tmp, key=lambda x: x[1], reverse=True):\n",
    "        if inst[0] == 1:\n",
    "            tp += 1\n",
    "            y_tp = tp/P\n",
    "        else:\n",
    "            fp += 1\n",
    "            x_fp = fp/N\n",
    "        x.append(x_fp)\n",
    "        y.append(y_tp)\n",
    "    \n",
    "    fig, ax = plt.subplots()\n",
    "    ax.scatter(x, y)\n",
    "\n",
    "    ax.plot([0, 1], [0, 1], 'k-', alpha=0.75, zorder=0)\n",
    "    ax.set_aspect('equal')\n",
    "    ax.set_xlim([0, 1])\n",
    "    ax.set_ylim([0, 1])\n",
    "    ax.set_title(f\"Curva ROC Regresion {re.findall(regexrule_filename, dataset_filename)[0]}\")\n",
    "    ax.set_xlabel(\"False Positive Rate\")\n",
    "    ax.set_ylabel(\"True Positive Rate\")\n"
   ]
  },
  {
   "cell_type": "markdown",
   "id": "b651cad2",
   "metadata": {},
   "source": [
    "# <font color='purple'>Memoria</font>\n",
    "Como hay que comparar la implementación propia con la de sklearn y ver varios learning_rates y numero de iteraciones decidimos hacer una tabla conjunta de donde extraer los datos a estudiar, y posicionarla entre el apartado 1 y 2 para que sea comoda de ver en ambos apartados"
   ]
  },
  {
   "cell_type": "markdown",
   "id": "d5280900",
   "metadata": {},
   "source": [
    "## Apartado 1\n",
    "#### Implementación Propia\n",
    "A la hora de entrenar utilizamos una técnica que nos permite obtener mejores resultados de una forma más consistente. Dicha técnica consiste en reorganizar los datapoints de la entrada para que alternen entre la clase positiva y la negativa. Como ya sabemos, el orden en el que se procesan los datapoints afecta a la frontera final, por lo que si hay muchos datos de una misma clase seguidos, es posible que la frontera se mueva mucho en una dirección y distorsione la frontera final. En cambio, si balanceamos los puntos en función de la clase, la frontera se moverá de una forma más controlada y dará unos resultados más consistentes (y en general mejores).\n",
    "\n",
    "#### Resultados\n",
    "El dataset wdbc funciona mucho mejor para la regresión lineal, asumimos que esto es porque pima-indians-diabetes no es linealmente separable, ya que para otros clasificadores como KNN o NaiveBayes, da mejores resultados (se verá en el espacio ROC en el apartado 3).\n",
    "\n",
    "Respecto a la variación del learning rate y el número de iteraciones podemos ver como los mejores resultados en wdbc dan con el learn_rate 0.25 y 0.75, para todas las pruebas de iteraciones. Y en cuanto a las iteraciones vemos que cuando el learning rate es muy pequeño (0.25) es mejor tener muchas, mientras que según vamos aumentando varia más, por ejemplo con learning_rate de 1 las 150 iteraciones tienen el peor resultado, esto debe ser debido a que hay mucho cambio entre epoch y epoch y se pasa cada vez que hace una actualización, por lo que va a hacer movimientos bruscos por la zona que tiene que estar pero el resultado final va a ser un poco aleatorio. \n",
    "\n",
    "El mejor resultado para wdbc es es learning_rate 0.25 con 150 iteraciones o learning_rate 0.75 con 100 iteraciones.\n",
    "\n",
    "En pima-indians-diabetes no varia tanto entre pruebas, el más estable es el learning rate de 0.25 ya que todas las iteraciones estan por debajo de 0.36 y la mejor es 0.3464 que es la mejor de todas las pruebas. Esta prueba esta hecha con 100 iteraciones. Sospechamos que no varía tanto ya que como no es linealmente separable un número alto de iteraciones o un learning rate bajo no puede solucionar el problema."
   ]
  },
  {
   "cell_type": "code",
   "execution_count": 6,
   "id": "03ec4823",
   "metadata": {},
   "outputs": [
    {
     "data": {
      "text/html": [
       "<div>\n",
       "<style scoped>\n",
       "    .dataframe tbody tr th:only-of-type {\n",
       "        vertical-align: middle;\n",
       "    }\n",
       "\n",
       "    .dataframe tbody tr th {\n",
       "        vertical-align: top;\n",
       "    }\n",
       "\n",
       "    .dataframe thead tr th {\n",
       "        text-align: left;\n",
       "    }\n",
       "\n",
       "    .dataframe thead tr:last-of-type th {\n",
       "        text-align: right;\n",
       "    }\n",
       "</style>\n",
       "<table border=\"1\" class=\"dataframe\">\n",
       "  <thead>\n",
       "    <tr>\n",
       "      <th></th>\n",
       "      <th>dataset</th>\n",
       "      <th colspan=\"2\" halign=\"left\">wdbc</th>\n",
       "      <th colspan=\"2\" halign=\"left\">pima-indians-diabetes</th>\n",
       "    </tr>\n",
       "    <tr>\n",
       "      <th></th>\n",
       "      <th>func</th>\n",
       "      <th>Propia</th>\n",
       "      <th>Sklearn</th>\n",
       "      <th>Propia</th>\n",
       "      <th>Sklearn</th>\n",
       "    </tr>\n",
       "    <tr>\n",
       "      <th>learn_rate</th>\n",
       "      <th>n_epochs</th>\n",
       "      <th></th>\n",
       "      <th></th>\n",
       "      <th></th>\n",
       "      <th></th>\n",
       "    </tr>\n",
       "  </thead>\n",
       "  <tbody>\n",
       "    <tr>\n",
       "      <th rowspan=\"3\" valign=\"top\">0.25</th>\n",
       "      <th>50</th>\n",
       "      <td>0.1671 ± 0.0585</td>\n",
       "      <td>0.1107 ± 0.0327</td>\n",
       "      <td>0.3529 ± 0.0236</td>\n",
       "      <td>0.4246 ± 0.0950</td>\n",
       "    </tr>\n",
       "    <tr>\n",
       "      <th>100</th>\n",
       "      <td>0.1073 ± 0.0259</td>\n",
       "      <td>0.0985 ± 0.0206</td>\n",
       "      <td>0.3464 ± 0.0237</td>\n",
       "      <td>0.4884 ± 0.1363</td>\n",
       "    </tr>\n",
       "    <tr>\n",
       "      <th>150</th>\n",
       "      <td>0.0878 ± 0.0259</td>\n",
       "      <td>0.1054 ± 0.0384</td>\n",
       "      <td>0.3581 ± 0.0187</td>\n",
       "      <td>0.4361 ± 0.1185</td>\n",
       "    </tr>\n",
       "    <tr>\n",
       "      <th rowspan=\"3\" valign=\"top\">0.50</th>\n",
       "      <th>50</th>\n",
       "      <td>0.0932 ± 0.0316</td>\n",
       "      <td>0.1266 ± 0.0443</td>\n",
       "      <td>0.3594 ± 0.0357</td>\n",
       "      <td>0.4245 ± 0.0378</td>\n",
       "    </tr>\n",
       "    <tr>\n",
       "      <th>100</th>\n",
       "      <td>0.0949 ± 0.0305</td>\n",
       "      <td>0.1476 ± 0.1067</td>\n",
       "      <td>0.3841 ± 0.0496</td>\n",
       "      <td>0.3905 ± 0.0591</td>\n",
       "    </tr>\n",
       "    <tr>\n",
       "      <th>150</th>\n",
       "      <td>0.1125 ± 0.0365</td>\n",
       "      <td>0.1564 ± 0.0866</td>\n",
       "      <td>0.3605 ± 0.0532</td>\n",
       "      <td>0.4469 ± 0.0968</td>\n",
       "    </tr>\n",
       "    <tr>\n",
       "      <th rowspan=\"3\" valign=\"top\">0.75</th>\n",
       "      <th>50</th>\n",
       "      <td>0.1141 ± 0.0516</td>\n",
       "      <td>0.2704 ± 0.1676</td>\n",
       "      <td>0.3960 ± 0.0956</td>\n",
       "      <td>0.4287 ± 0.1212</td>\n",
       "    </tr>\n",
       "    <tr>\n",
       "      <th>100</th>\n",
       "      <td>0.0879 ± 0.0184</td>\n",
       "      <td>0.1617 ± 0.0530</td>\n",
       "      <td>0.3489 ± 0.0354</td>\n",
       "      <td>0.5286 ± 0.1035</td>\n",
       "    </tr>\n",
       "    <tr>\n",
       "      <th>150</th>\n",
       "      <td>0.0914 ± 0.0121</td>\n",
       "      <td>0.0914 ± 0.0069</td>\n",
       "      <td>0.3502 ± 0.0155</td>\n",
       "      <td>0.4530 ± 0.1177</td>\n",
       "    </tr>\n",
       "    <tr>\n",
       "      <th rowspan=\"3\" valign=\"top\">1.00</th>\n",
       "      <th>50</th>\n",
       "      <td>0.1144 ± 0.0592</td>\n",
       "      <td>0.1072 ± 0.0274</td>\n",
       "      <td>0.3660 ± 0.0386</td>\n",
       "      <td>0.4623 ± 0.1447</td>\n",
       "    </tr>\n",
       "    <tr>\n",
       "      <th>100</th>\n",
       "      <td>0.0914 ± 0.0133</td>\n",
       "      <td>0.1971 ± 0.0877</td>\n",
       "      <td>0.3620 ± 0.0537</td>\n",
       "      <td>0.4727 ± 0.1487</td>\n",
       "    </tr>\n",
       "    <tr>\n",
       "      <th>150</th>\n",
       "      <td>0.1265 ± 0.0468</td>\n",
       "      <td>0.1986 ± 0.0402</td>\n",
       "      <td>0.3489 ± 0.0193</td>\n",
       "      <td>0.4440 ± 0.0748</td>\n",
       "    </tr>\n",
       "  </tbody>\n",
       "</table>\n",
       "</div>"
      ],
      "text/plain": [
       "dataset                         wdbc                  pima-indians-diabetes  \\\n",
       "func                          Propia          Sklearn                Propia   \n",
       "learn_rate n_epochs                                                           \n",
       "0.25       50        0.1671 ± 0.0585  0.1107 ± 0.0327       0.3529 ± 0.0236   \n",
       "           100       0.1073 ± 0.0259  0.0985 ± 0.0206       0.3464 ± 0.0237   \n",
       "           150       0.0878 ± 0.0259  0.1054 ± 0.0384       0.3581 ± 0.0187   \n",
       "0.50       50        0.0932 ± 0.0316  0.1266 ± 0.0443       0.3594 ± 0.0357   \n",
       "           100       0.0949 ± 0.0305  0.1476 ± 0.1067       0.3841 ± 0.0496   \n",
       "           150       0.1125 ± 0.0365  0.1564 ± 0.0866       0.3605 ± 0.0532   \n",
       "0.75       50        0.1141 ± 0.0516  0.2704 ± 0.1676       0.3960 ± 0.0956   \n",
       "           100       0.0879 ± 0.0184  0.1617 ± 0.0530       0.3489 ± 0.0354   \n",
       "           150       0.0914 ± 0.0121  0.0914 ± 0.0069       0.3502 ± 0.0155   \n",
       "1.00       50        0.1144 ± 0.0592  0.1072 ± 0.0274       0.3660 ± 0.0386   \n",
       "           100       0.0914 ± 0.0133  0.1971 ± 0.0877       0.3620 ± 0.0537   \n",
       "           150       0.1265 ± 0.0468  0.1986 ± 0.0402       0.3489 ± 0.0193   \n",
       "\n",
       "dataset                               \n",
       "func                         Sklearn  \n",
       "learn_rate n_epochs                   \n",
       "0.25       50        0.4246 ± 0.0950  \n",
       "           100       0.4884 ± 0.1363  \n",
       "           150       0.4361 ± 0.1185  \n",
       "0.50       50        0.4245 ± 0.0378  \n",
       "           100       0.3905 ± 0.0591  \n",
       "           150       0.4469 ± 0.0968  \n",
       "0.75       50        0.4287 ± 0.1212  \n",
       "           100       0.5286 ± 0.1035  \n",
       "           150       0.4530 ± 0.1177  \n",
       "1.00       50        0.4623 ± 0.1447  \n",
       "           100       0.4727 ± 0.1487  \n",
       "           150       0.4440 ± 0.0748  "
      ]
     },
     "execution_count": 6,
     "metadata": {},
     "output_type": "execute_result"
    }
   ],
   "source": [
    "final_table(learning_rates = np.arange(0.0, 1.1, 0.25)[1:], epochs = range(50, 151, 50), debug = False)"
   ]
  },
  {
   "cell_type": "markdown",
   "id": "ee801f1a",
   "metadata": {},
   "source": [
    "## Apartado 2\n",
    "#### Implementación en sklearn\n",
    "La comparación se hizo con SGDClassifier, ya que sklearn.LogisticRegression no tiene learning rate ni muchos parametros que necesitamos para comparar con nuestra implementación.\n",
    "\n",
    "Además LogisticRegression minimiza la probabilidad log, mientras que SGDClassifier usa Stochastic Gradient Descent. Este último se parece mucho más a nuestra implementación. Tanto nuestra implementación como SGDClassifier actualizan los pesos por cada ejemplo, sin embargo SGD hace aproximaciones para ser mucho más rápido.\n",
    "\n",
    "#### Argumentos SGDClassifier:\n",
    "* _max_iter_: es el número máximo de iteraciones que va a realizar, en este caso es un límite, en nuestra implementación es el número de iteraciones exactas.\n",
    "* _learning\\_rate_: La manera de actualizar los pesos, el que más se parece a nuestra implementación es \"constant\" asi que es el que usaremos. Los otros modos usan eurísticas que van actualizando el learning rate durante el proceso.\n",
    "* _eta0_: Learning rate inicial, como queremos hacer que la implementación de sklearn se parezca a la nuestra usamos learning_rate \"constant\" y el eta0 ya no es el inicial si no el learning rate que se usa durante todo el proceso.\n",
    "* _early_stopping_: Booleano que determina si se para de entrenar cuando la score de validación no aumenta. Para determinar esto el fitter separa una pequeña porción de los datos stratificados y va comprobando el score con esos. Nosotros lo hemos dejado a False ya que en nuestra implementación no lo usamos.\n",
    "* _n\\_iter_no_change_: Cuantas epochs sin mejoría pasan hasta que para el entrenamiento, dependiendo de \"_early\\_stopping_\" esa comprobación se hace con el conjunto de ese parametro o con el conjunto de entrenamiento completo.\n",
    "\n",
    "#### Argumentos LogisticRegression:\n",
    "* _solver_: los \"solvers\" son algoritmos de opimización. Por defecto vine \"lbfgs\".\n",
    "* _max_iter_: Igual que en SGDC\n",
    "\n",
    "#### Comentario y comparación\n",
    "De nuevo podemos observar como pima-indians-diabetes tiene un error muy alto en comparación a wdbc. Por lo general varía mucho más en sklearn respecto a la implementación propia y el error suele ser más alto. Esto puede ser a la manera en que ordenamos los datos en la implementación propia (explicado en el apartado 1) o la inicialización aleatoria del vector inicial.\n",
    "\n",
    "En wdbc de nuevo podemos observar como 0.25 es el mejor learning_rate, solo que en este caso la cantidad óptima de iteraciones es 100. El learning rate 0.5 tiene resultados bastante malos comparados con nuestra implementación al igual que 0.75, con una excepción, 150 iteraciones tiene el mismo error, sin embargo 100 y 50 es mucho peor. Donde mejora sklearn es con learning rate de 1 y 50 iteraciones, sin embargo podemos ver que con 100 y 150 el resultado vuelve a empeorar demasiado.\n",
    "\n",
    "Podemos observar un comportamiento similar en pima-indians-diabetes, es bastante peor que nuestra implementación siendo 0.5 y 100 la mejor prueba."
   ]
  },
  {
   "cell_type": "markdown",
   "id": "8ec68836",
   "metadata": {},
   "source": [
    "## Apartado 3"
   ]
  },
  {
   "cell_type": "code",
   "execution_count": 16,
   "id": "43ddb64f",
   "metadata": {},
   "outputs": [
    {
     "data": {
      "image/png": "[encoded data removed]",
      "text/plain": [
       "<Figure size 432x288 with 1 Axes>"
      ]
     },
     "metadata": {
      "needs_background": "light"
     },
     "output_type": "display_data"
    }
   ],
   "source": [
    "generate_roc_space(5, '../ConjuntosDatosP2Knn/pima-indians-diabetes.data', ClasificadorKNN(5), ClasificadorNaiveBayes(True), ClasificadorRegresionLogistica(0.1, 100))"
   ]
  },
  {
   "cell_type": "markdown",
   "id": "929b1eb8",
   "metadata": {},
   "source": [
    "Lo primero que observamos es que la regresión lineal rinde peor que tanto KNN como Naive Bayes, que tienen un rendimiento similar. Esto era de esperar, pues como ya comentamos más arriba, parece que este dataset no se separa bien linealmente.\n",
    "\n",
    "Observamos que aunque la regresión lineal tiene una false positive rate (FPR) ligeramente inferior que los otros dos (es decir, clasifica datos como clase positiva de forma errónea menos veces), pero también tiene una TPR mucho más baja que los otros dos (es decir, clasifica datos como clase positiva correctamente muy pocas veces). Es tan baja que es prácticamente igual que la FPR, lo que pone a este punto muy cercano a la recta en la que caería un clasificador que clasifica aleatoriamente. Cabe destacar que aunque KNN y Naive Bayes rinden mejor que la regresión lineal, tampoco se obtienen unos resultados muy buenos con este dataset."
   ]
  },
  {
   "cell_type": "code",
   "execution_count": 17,
   "id": "2d907ca3",
   "metadata": {},
   "outputs": [
    {
     "data": {
      "image/png": "[encoded data removed]",
      "text/plain": [
       "<Figure size 432x288 with 1 Axes>"
      ]
     },
     "metadata": {
      "needs_background": "light"
     },
     "output_type": "display_data"
    }
   ],
   "source": [
    "generate_roc_space(5, '../ConjuntosDatosP2Knn/wdbc.data', ClasificadorKNN(5), ClasificadorNaiveBayes(True), ClasificadorRegresionLogistica(0.1, 100))"
   ]
  },
  {
   "cell_type": "markdown",
   "id": "3b32da03",
   "metadata": {},
   "source": [
    "En general, vemos que los tres clasificadores rinden de una forma muy similar con el dataset wdbc. Tienen una true positive rate (TPR) muy alta y una false positive rate (FPR) muy baja. Están todos muy cerca del punto (0, 1), que es el que correspondría a un clasificador perfecto (que no comete ningún error de clasificación). De los tres se ve que Naive Bayes rinde marginalmente mejor que los otros dos, pero la diferencia es tan pequeña que es despreciable."
   ]
  },
  {
   "cell_type": "markdown",
   "id": "a222b764",
   "metadata": {},
   "source": [
    "## Apartado 4"
   ]
  },
  {
   "cell_type": "markdown",
   "id": "d60ccbd4",
   "metadata": {},
   "source": [
    "Las curvas ROC (Receiver Operating Characteristic Curve) permiten visualizar de una forma muy gráfica y sencilla la capacidad de un clasificador binario de discernir entre puntos de clase positiva y negativa mientras se va variando el umbral que decide de qué clase es un punto. En general, muestra la TPR contra la FPR para diferentes valores del umbral.\n",
    "\n",
    "La forma de calcular la gráfica variando el umbral es computacionalmente muy costosa, ya que hay que clasificar todos los puntos varias veces. Por ello, nosotros usamos un método que nos permite calcular una curva aproximada clasificando cada punto una sola vez, calculando los scores de todos ellos, ordenandolos de mayor a menor y dibujando una función escalonada, ascendiendo cuando el punto es de clase positiva y moviendose a la derecha cuando es de clase negativa."
   ]
  },
  {
   "cell_type": "code",
   "execution_count": 13,
   "id": "bd551c18",
   "metadata": {},
   "outputs": [
    {
     "data": {
      "image/png": "[encoded data removed]",
      "text/plain": [
       "<Figure size 432x288 with 1 Axes>"
      ]
     },
     "metadata": {
      "needs_background": "light"
     },
     "output_type": "display_data"
    }
   ],
   "source": [
    "generate_roc_curve(5, '../ConjuntosDatosP2Knn/wdbc.data', 0.1, 250)"
   ]
  },
  {
   "cell_type": "markdown",
   "id": "679bbb2d",
   "metadata": {},
   "source": [
    "Para este dataset vemos que la curva se aleja mucho de la recta de un clasificador aleatorio por la izquierda, por lo que el área bajo la curva es muy grande. Hablamos sobre el área debajo de la curva ROC porque esta es la probabilidad de que el clasificador sea capaza de clasificar a dos individuos, uno de clase positiva y el otro de clase negativa, de forma correcta.\n",
    "\n"
   ]
  },
  {
   "cell_type": "code",
   "execution_count": 14,
   "id": "70a4f8ae",
   "metadata": {},
   "outputs": [
    {
     "data": {
      "image/png": "[encoded data removed]",
      "text/plain": [
       "<Figure size 432x288 with 1 Axes>"
      ]
     },
     "metadata": {
      "needs_background": "light"
     },
     "output_type": "display_data"
    }
   ],
   "source": [
    "generate_roc_curve(5, '../ConjuntosDatosP2Knn/pima-indians-diabetes.data', 0.1, 250)"
   ]
  },
  {
   "cell_type": "markdown",
   "id": "363f52e1",
   "metadata": {},
   "source": [
    "Comentario Espacio ROC Pima Indians:\n",
    "En pima-indians, la curva ROC está ligeramente por encima de la recta que representaría un clasificador aleatorio. Esto concuerda con lo visto en otros apartados, ya que con este dataset da unos resultados muy malos, sin bajar el error de un 0.35."
   ]
  }
 ],
 "metadata": {
  "kernelspec": {
   "display_name": "Python 3",
   "language": "python",
   "name": "python3"
  },
  "language_info": {
   "codemirror_mode": {
    "name": "ipython",
    "version": 3
   },
   "file_extension": ".py",
   "mimetype": "text/x-python",
   "name": "python",
   "nbconvert_exporter": "python",
   "pygments_lexer": "ipython3",
   "version": "3.6.8"
  }
 },
 "nbformat": 4,
 "nbformat_minor": 5
}
