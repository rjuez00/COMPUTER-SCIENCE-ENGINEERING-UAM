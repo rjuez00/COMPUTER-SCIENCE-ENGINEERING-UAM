{
 "cells": [
  {
   "cell_type": "markdown",
   "id": "e259a5d3",
   "metadata": {},
   "source": [
    "# Práctica 1: Naive Bayes\n",
    "## Alejandro Benimeli & Rodrigo Juez\n",
    "### Pareja 07\n",
    "Primero hemos puesto la ejecución de código con el cual obtenemos los resultados, la memoria y explicaciones están al final del notebook"
   ]
  },
  {
   "cell_type": "code",
   "execution_count": 1,
   "id": "1952c639",
   "metadata": {},
   "outputs": [],
   "source": [
    "from Datos import Datos\n",
    "import EstrategiaParticionado\n",
    "import Clasificador\n",
    "\n",
    "from sklearn.preprocessing import OneHotEncoder\n",
    "from sklearn.model_selection import ShuffleSplit, KFold\n",
    "from sklearn.naive_bayes import MultinomialNB, CategoricalNB, GaussianNB\n",
    "import pandas as pd\n",
    "import numpy as np\n",
    "\n",
    "err_std_str = \"{:.8f} +/- {:.8f}\""
   ]
  },
  {
   "cell_type": "markdown",
   "id": "886a9eab",
   "metadata": {},
   "source": [
    "# Ejecución Implementación Propia\n",
    "La función que se encargará de producir los resultados en base al archivo y a la validación elegida.<br>\n",
    "No tenemos un booleano que diga si es validación simple o cruzada si no eliges la proporción de la validación simple se asume que \"numero_particiones\" es el KFolds."
   ]
  },
  {
   "cell_type": "code",
   "execution_count": 2,
   "id": "8419d5fb",
   "metadata": {},
   "outputs": [],
   "source": [
    "# si quieres la validacion simple usa el argumento \"proporcion_simple\" si no se usará la cruzada\n",
    "def ejecutar_todo(filename, aplicar_laplace, numero_particiones, proporcion_simple = None):\n",
    "    dataset = Datos(filename)\n",
    "\n",
    "    if proporcion_simple != None:\n",
    "        estrategia = EstrategiaParticionado.ValidacionSimple(proporcion_simple, numero_particiones)\n",
    "    else:\n",
    "        estrategia = EstrategiaParticionado.ValidacionCruzada(numero_particiones)\n",
    "\n",
    "\n",
    "    clasificador = Clasificador.ClasificadorNaiveBayes(aplicar_laplace = aplicar_laplace)\n",
    "    return clasificador.validacion(estrategia,dataset,clasificador)"
   ]
  },
  {
   "cell_type": "markdown",
   "id": "e6b497ce",
   "metadata": {},
   "source": [
    "### Creamos un dataframe de Pandas vacío, donde luego almacenaremos nuestros resultados\n",
    "\n",
    "Hemos usado un \"MultiIndex\" que es un índice de varios niveles que nos ayudará a visualizar la tabla, ya que hay muchas variables comunes"
   ]
  },
  {
   "cell_type": "code",
   "execution_count": 3,
   "id": "d30703b8",
   "metadata": {},
   "outputs": [],
   "source": [
    "x = ['Error tic-tac-toe', 'Error german']\n",
    "y = [(\"Simple\", \"Si\"),\n",
    "     (\"Simple\", \"No\"),\n",
    "     (\"Cruzada\", \"Si\"),\n",
    "     (\"Cruzada\", \"No\")]\n",
    "names = [\"Validación\", \"Corrección Laplace\"]\n",
    "\n",
    "col_list = pd.MultiIndex.from_tuples(y, names = names)\n",
    "\n",
    "nuestros_resultados = pd.DataFrame(index=col_list, columns=x, dtype=float)"
   ]
  },
  {
   "cell_type": "markdown",
   "id": "3810329b",
   "metadata": {},
   "source": [
    "A continuación solo tenemos que probar todas las combinaciones (Dataset, Validación y Laplace) 2³ y añadirlas a la tabla creada anteriormente."
   ]
  },
  {
   "cell_type": "markdown",
   "id": "42ae2a91",
   "metadata": {},
   "source": [
    "### Tic Tac Toe"
   ]
  },
  {
   "cell_type": "code",
   "execution_count": 4,
   "id": "562eefc3",
   "metadata": {},
   "outputs": [],
   "source": [
    "# Validacion Simple con Laplace\n",
    "err, stdev = ejecutar_todo('../ConjuntosDatos/tic-tac-toe.data', True, 5, proporcion_simple = 0.2)\n",
    "nuestros_resultados.loc[(\"Simple\", \"Si\"), \"Error tic-tac-toe\"] =  err_std_str.format(err, stdev)\n",
    "\n",
    "# Validacion Simple sin Laplace\n",
    "err, stdev = ejecutar_todo('../ConjuntosDatos/tic-tac-toe.data', False, 5, proporcion_simple = 0.2)\n",
    "nuestros_resultados.loc[(\"Simple\", \"No\"), \"Error tic-tac-toe\"] =  err_std_str.format(err, stdev)\n",
    "\n",
    "# Validacion Cruzada con Laplace\n",
    "err, stdev = ejecutar_todo('../ConjuntosDatos/tic-tac-toe.data', True, 5)\n",
    "nuestros_resultados.loc[(\"Cruzada\", \"Si\"), \"Error tic-tac-toe\"] =  err_std_str.format(err, stdev)\n",
    "\n",
    "# Validacion Cruzada sin Laplace\n",
    "err, stdev = ejecutar_todo('../ConjuntosDatos/tic-tac-toe.data', False, 5)\n",
    "nuestros_resultados.loc[(\"Cruzada\", \"No\"), \"Error tic-tac-toe\"] =  err_std_str.format(err, stdev)"
   ]
  },
  {
   "cell_type": "markdown",
   "id": "f89f9145",
   "metadata": {},
   "source": [
    "### German Data"
   ]
  },
  {
   "cell_type": "code",
   "execution_count": 5,
   "id": "03ac6630",
   "metadata": {
    "scrolled": false
   },
   "outputs": [],
   "source": [
    "# Validacion Simple con Laplace\n",
    "err, stdev = ejecutar_todo('../ConjuntosDatos/german.data', True, 5, proporcion_simple = 0.2)\n",
    "nuestros_resultados.loc[(\"Simple\", \"Si\"), \"Error german\"] =  err_std_str.format(err, stdev)\n",
    "\n",
    "# Validacion Simple sin Laplace\n",
    "err, stdev = ejecutar_todo('../ConjuntosDatos/german.data', False, 5, proporcion_simple = 0.2)\n",
    "nuestros_resultados.loc[(\"Simple\", \"No\"), \"Error german\"] =  err_std_str.format(err, stdev)\n",
    "\n",
    "# Validacion Cruzada con Laplace\n",
    "err, stdev = ejecutar_todo('../ConjuntosDatos/german.data', True, 5)\n",
    "nuestros_resultados.loc[(\"Cruzada\", \"Si\"), \"Error german\"] =  err_std_str.format(err, stdev)\n",
    "\n",
    "# Validacion Cruzada sin Laplace\n",
    "err, stdev = ejecutar_todo('../ConjuntosDatos/german.data', False, 5)\n",
    "nuestros_resultados.loc[(\"Cruzada\", \"No\"), \"Error german\"] =  err_std_str.format(err, stdev)"
   ]
  },
  {
   "cell_type": "markdown",
   "id": "fe46d8f6",
   "metadata": {},
   "source": [
    "# Implementación SKlearn\n",
    "Como para la implementación propia hemos creado una función que ejecuta el fitting y la validación en una sola linea para que nos sea facil de programar."
   ]
  },
  {
   "cell_type": "code",
   "execution_count": 6,
   "id": "160120f5",
   "metadata": {},
   "outputs": [],
   "source": [
    "vs = ShuffleSplit(n_splits=5, test_size=.2)\n",
    "vc = KFold(n_splits=5, shuffle=True)"
   ]
  },
  {
   "cell_type": "code",
   "execution_count": 7,
   "id": "623493fb",
   "metadata": {},
   "outputs": [],
   "source": [
    "def probar_sklearn(X, y, split_strategy, classifierClass, **params):\n",
    "    errores = []\n",
    "    for train_idx, test_idx, in split_strategy.split(X):\n",
    "        classifier = classifierClass(**params)\n",
    " \n",
    "        try:\n",
    "            classifier.fit(X[train_idx], y[train_idx])\n",
    "            errores.append(classifier.score(X[test_idx], y[test_idx]))\n",
    "        except:\n",
    "            pass\n",
    "\n",
    "    if len(errores) == 0:\n",
    "        return 1, 0 # 100% de error\n",
    "    return 1 - np.mean(errores), np.std(errores)"
   ]
  },
  {
   "cell_type": "markdown",
   "id": "1b368596",
   "metadata": {},
   "source": [
    "## Definición de tabla de pandas\n",
    "Hemos creado la tabla de sklearn lo más parecida a la de nuestra implementación, para que sea facil de comparar entre las dos tablas."
   ]
  },
  {
   "cell_type": "code",
   "execution_count": 8,
   "id": "1866ce4b",
   "metadata": {},
   "outputs": [],
   "source": [
    "x = [\"Error tic-tac-toe\", \"Error german\"]\n",
    "y = [(\"CategoricalNB\", \"Cruzada\", \"Si\"),\n",
    "     (\"CategoricalNB\", \"Cruzada\", \"No\"),\n",
    "     (\"CategoricalNB\", \"Simple\", \"Si\"),\n",
    "     (\"CategoricalNB\", \"Simple\", \"No\"),\n",
    "     \n",
    "     (\"GaussianNB\", \"Cruzada\", \"N/A\"),\n",
    "     (\"GaussianNB\", \"Simple\", \"N/A\"),\n",
    "     \n",
    "     (\"MultinomialNB\", \"Cruzada\", \"Si\"),\n",
    "     (\"MultinomialNB\", \"Cruzada\", \"No\"),\n",
    "     (\"MultinomialNB\", \"Simple\", \"Si\"),\n",
    "     (\"MultinomialNB\", \"Simple\", \"No\"),\n",
    "\n",
    "\n",
    "     (\"MultinomialNB | OneHotEncoding\", \"Cruzada\", \"Si\"),\n",
    "     (\"MultinomialNB | OneHotEncoding\", \"Cruzada\", \"No\"),\n",
    "     (\"MultinomialNB | OneHotEncoding\", \"Simple\", \"Si\"),\n",
    "     (\"MultinomialNB | OneHotEncoding\", \"Simple\", \"No\")]\n",
    "\n",
    "names = [\"Classifier\", \"Validación\", \"Laplace\"]\n",
    "\n",
    "\n",
    "col_list = pd.MultiIndex.from_tuples(y, names = names)\n",
    "\n",
    "sklearn_resultados = pd.DataFrame(index=col_list, columns=x, dtype=float)"
   ]
  },
  {
   "cell_type": "markdown",
   "id": "99ef603a",
   "metadata": {},
   "source": [
    "## Lectura y Particionado de los datos\n",
    "Al final hemos usado \"ShuffleSplit\" y \"KFold\" que devuelven indices de las particiones en vez de los datos en si."
   ]
  },
  {
   "cell_type": "code",
   "execution_count": 9,
   "id": "2dad99c9",
   "metadata": {},
   "outputs": [],
   "source": [
    "dataset_german=Datos('../ConjuntosDatos/german.data')\n",
    "dataset_tictactoe=Datos('../ConjuntosDatos/tic-tac-toe.data')\n",
    "\n",
    "X_german = dataset_german.datos.loc[:, dataset_german.datos.columns != \"Class\"].to_numpy()\n",
    "y_german = dataset_german.datos[\"Class\"].to_numpy()\n",
    "\n",
    "X_tictactoe = dataset_tictactoe.datos.loc[:, dataset_tictactoe.datos.columns != \"Class\"].to_numpy()\n",
    "y_tictactoe = dataset_tictactoe.datos[\"Class\"].to_numpy()\n",
    "\n",
    "vs = ShuffleSplit(n_splits=5, test_size=.2)\n",
    "vc = KFold(n_splits=5, shuffle=True)"
   ]
  },
  {
   "cell_type": "markdown",
   "id": "65872e53",
   "metadata": {},
   "source": [
    "Si observa la celda de imports podrá ver que hay una string llamada \"err_std_str\", esta se encarga de formatear el error y la std para su visualización en la tabla, y como recibimos de la función que ejecuta el fitting y la validación el err y std en el mismo orden podemos ponerlo como argumento y descomprimir la tupla con un asterisco.\n",
    "\n",
    "Igualmente añadimos los resultados a la tabla, que tiene un formato muy similar a la que usamos para nuestra implementación."
   ]
  },
  {
   "cell_type": "markdown",
   "id": "22d5e649",
   "metadata": {},
   "source": [
    "## GaussianNB"
   ]
  },
  {
   "cell_type": "code",
   "execution_count": 10,
   "id": "8b3cdc60",
   "metadata": {},
   "outputs": [
    {
     "name": "stdout",
     "output_type": "stream",
     "text": [
      "GaussianNB - Simple\n",
      "GaussianNB - Cruzada\n"
     ]
    }
   ],
   "source": [
    "print(\"GaussianNB - Simple\")\n",
    "errgerman = err_std_str.format(*probar_sklearn(X_german, y_german, vs, GaussianNB))\n",
    "errtictactoe = err_std_str.format(*probar_sklearn(X_tictactoe, y_tictactoe, vs, GaussianNB))\n",
    "sklearn_resultados.loc[('GaussianNB', 'Simple', 'N/A'), 'Error german'] = errgerman\n",
    "sklearn_resultados.loc[('GaussianNB', 'Simple', 'N/A'), 'Error tic-tac-toe'] = errtictactoe\n",
    "\n",
    "\n",
    "print(\"GaussianNB - Cruzada\")\n",
    "errgerman = err_std_str.format(*probar_sklearn(X_german, y_german, vc, GaussianNB))\n",
    "errtictactoe = err_std_str.format(*probar_sklearn(X_tictactoe, y_tictactoe, vc, GaussianNB))\n",
    "sklearn_resultados.loc[('GaussianNB', 'Cruzada', 'N/A'), 'Error german'] = errgerman\n",
    "sklearn_resultados.loc[('GaussianNB', 'Cruzada', 'N/A'), 'Error tic-tac-toe'] = errtictactoe"
   ]
  },
  {
   "cell_type": "markdown",
   "id": "b1fd153e",
   "metadata": {},
   "source": [
    "## CategoricalNB"
   ]
  },
  {
   "cell_type": "code",
   "execution_count": 11,
   "id": "23c7262a",
   "metadata": {},
   "outputs": [
    {
     "name": "stdout",
     "output_type": "stream",
     "text": [
      "CategoricalNB - Simple - No Laplace\n",
      "CategoricalNB - Simple - Laplace\n",
      "CategoricalNB - Cruzada - No Laplace\n",
      "CategoricalNB - Cruzada - Laplace\n"
     ]
    }
   ],
   "source": [
    "print(\"CategoricalNB - Simple - No Laplace\")\n",
    "errgerman = err_std_str.format(*probar_sklearn(X_german, y_german, vs, CategoricalNB, alpha=1e-09, fit_prior=True))\n",
    "errtictactoe = err_std_str.format(*probar_sklearn(X_tictactoe, y_tictactoe, vs, CategoricalNB, alpha=1e-09, fit_prior=True))\n",
    "sklearn_resultados.loc[('CategoricalNB', 'Simple', 'No'), 'Error german'] = errgerman\n",
    "sklearn_resultados.loc[('CategoricalNB', 'Simple', 'No'), 'Error tic-tac-toe'] = errtictactoe\n",
    "\n",
    "\n",
    "print(\"CategoricalNB - Simple - Laplace\")\n",
    "errgerman = err_std_str.format(*probar_sklearn(X_german, y_german, vs, CategoricalNB, alpha=1, fit_prior=True))\n",
    "errtictactoe = err_std_str.format(*probar_sklearn(X_tictactoe, y_tictactoe, vs, CategoricalNB, alpha=1, fit_prior=True))\n",
    "sklearn_resultados.loc[('CategoricalNB', 'Simple', 'Si'), 'Error german'] = errgerman\n",
    "sklearn_resultados.loc[('CategoricalNB', 'Simple', 'Si'), 'Error tic-tac-toe'] = errtictactoe\n",
    "\n",
    "\n",
    "print(\"CategoricalNB - Cruzada - No Laplace\")\n",
    "errgerman = err_std_str.format(*probar_sklearn(X_german, y_german, vc, CategoricalNB, alpha=1e-09, fit_prior=True))\n",
    "errtictactoe = err_std_str.format(*probar_sklearn(X_tictactoe, y_tictactoe, vc, CategoricalNB, alpha=1e-09, fit_prior=True))\n",
    "sklearn_resultados.loc[('CategoricalNB', 'Cruzada', 'No'), 'Error german'] = errgerman\n",
    "sklearn_resultados.loc[('CategoricalNB', 'Cruzada', 'No'), 'Error tic-tac-toe'] = errtictactoe\n",
    "\n",
    "\n",
    "print(\"CategoricalNB - Cruzada - Laplace\")\n",
    "errgerman = err_std_str.format(*probar_sklearn(X_german, y_german, vc, CategoricalNB, alpha=1, fit_prior=True))\n",
    "errtictactoe = err_std_str.format(*probar_sklearn(X_tictactoe, y_tictactoe, vc, CategoricalNB, alpha=1, fit_prior=True))\n",
    "sklearn_resultados.loc[('CategoricalNB', 'Cruzada', 'Si'), 'Error german'] = errgerman\n",
    "sklearn_resultados.loc[('CategoricalNB', 'Cruzada', 'Si'), 'Error tic-tac-toe'] = errtictactoe"
   ]
  },
  {
   "cell_type": "markdown",
   "id": "9f250abd",
   "metadata": {},
   "source": [
    "## MultinomialNB"
   ]
  },
  {
   "cell_type": "code",
   "execution_count": 12,
   "id": "e99e3e28",
   "metadata": {},
   "outputs": [
    {
     "name": "stdout",
     "output_type": "stream",
     "text": [
      "MultinomialNB - Simple - No Laplace\n",
      "MultinomialNB - Simple - Laplace\n",
      "MultinomialNB - Cruzada - No Laplace\n",
      "MultinomialNB - Cruzada - Laplace\n"
     ]
    }
   ],
   "source": [
    "print(\"MultinomialNB - Simple - No Laplace\")\n",
    "errgerman = err_std_str.format(*probar_sklearn(X_german, y_german, vs, MultinomialNB, alpha=1e-09, fit_prior=True))\n",
    "errtictactoe = err_std_str.format(*probar_sklearn(X_tictactoe, y_tictactoe, vs, MultinomialNB, alpha=1e-09, fit_prior=True))\n",
    "sklearn_resultados.loc[('MultinomialNB', 'Simple', 'No'), 'Error german'] = errgerman\n",
    "sklearn_resultados.loc[('MultinomialNB', 'Simple', 'No'), 'Error tic-tac-toe'] = errtictactoe\n",
    "\n",
    "\n",
    "\n",
    "print(\"MultinomialNB - Simple - Laplace\")\n",
    "errgerman = err_std_str.format(*probar_sklearn(X_german, y_german, vs, MultinomialNB, alpha=1, fit_prior=True))\n",
    "errtictactoe = err_std_str.format(*probar_sklearn(X_tictactoe, y_tictactoe, vs, MultinomialNB, alpha=1, fit_prior=True))\n",
    "sklearn_resultados.loc[('MultinomialNB', 'Simple', 'Si'), 'Error german'] = errgerman\n",
    "sklearn_resultados.loc[('MultinomialNB', 'Simple', 'Si'), 'Error tic-tac-toe'] = errtictactoe\n",
    "\n",
    "\n",
    "\n",
    "print(\"MultinomialNB - Cruzada - No Laplace\")\n",
    "errgerman = err_std_str.format(*probar_sklearn(X_german, y_german, vc, MultinomialNB, alpha=1e-09, fit_prior=True))\n",
    "errtictactoe = err_std_str.format(*probar_sklearn(X_tictactoe, y_tictactoe, vc, MultinomialNB, alpha=1e-09, fit_prior=True))\n",
    "sklearn_resultados.loc[('MultinomialNB', 'Cruzada', 'No'), 'Error german'] = errgerman\n",
    "sklearn_resultados.loc[('MultinomialNB', 'Cruzada', 'No'), 'Error tic-tac-toe'] = errtictactoe\n",
    "\n",
    "\n",
    "\n",
    "\n",
    "print(\"MultinomialNB - Cruzada - Laplace\")\n",
    "errgerman = err_std_str.format(*probar_sklearn(X_german, y_german, vc, MultinomialNB, alpha=1, fit_prior=True))\n",
    "errtictactoe = err_std_str.format(*probar_sklearn(X_tictactoe, y_tictactoe, vc, MultinomialNB, alpha=1, fit_prior=True))\n",
    "sklearn_resultados.loc[('MultinomialNB', 'Cruzada', 'Si'), 'Error german'] = errgerman\n",
    "sklearn_resultados.loc[('MultinomialNB', 'Cruzada', 'Si'), 'Error tic-tac-toe'] = errtictactoe\n"
   ]
  },
  {
   "cell_type": "markdown",
   "id": "3954d16d",
   "metadata": {},
   "source": [
    "## MultinomialNB | OneHotEncoding"
   ]
  },
  {
   "cell_type": "code",
   "execution_count": 13,
   "id": "431ef286",
   "metadata": {},
   "outputs": [
    {
     "name": "stdout",
     "output_type": "stream",
     "text": [
      "MultinomialNB OneHot - Simple - No Laplace\n",
      "MultinomialNB OneHot - Simple - Laplace\n",
      "MultinomialNB OneHot - Cruzada - No Laplace\n",
      "MultinomialNB OneHot - Cruzada - Laplace\n"
     ]
    }
   ],
   "source": [
    "encoder = OneHotEncoder()\n",
    "X_german_onehot = encoder.fit_transform(X_german)\n",
    "X_tictactoe_onehot = encoder.fit_transform(X_tictactoe)\n",
    "\n",
    "print(\"MultinomialNB OneHot - Simple - No Laplace\")\n",
    "errgerman = err_std_str.format(*probar_sklearn(X_german_onehot, y_german, vs, MultinomialNB, alpha=1e-09, fit_prior=True))\n",
    "errtictactoe = err_std_str.format(*probar_sklearn(X_tictactoe_onehot, y_tictactoe, vs, MultinomialNB, alpha=1e-09, fit_prior=True))\n",
    "sklearn_resultados.loc[('MultinomialNB | OneHotEncoding', 'Simple', 'No'), 'Error german'] = errgerman\n",
    "sklearn_resultados.loc[('MultinomialNB | OneHotEncoding', 'Simple', 'No'), 'Error tic-tac-toe'] = errtictactoe\n",
    "\n",
    "\n",
    "\n",
    "print(\"MultinomialNB OneHot - Simple - Laplace\")\n",
    "errgerman = err_std_str.format(*probar_sklearn(X_german_onehot, y_german, vs, MultinomialNB, alpha=1, fit_prior=True))\n",
    "errtictactoe = err_std_str.format(*probar_sklearn(X_tictactoe_onehot, y_tictactoe, vs, MultinomialNB, alpha=1, fit_prior=True))\n",
    "sklearn_resultados.loc[('MultinomialNB | OneHotEncoding', 'Simple', 'Si'), 'Error german'] = errgerman\n",
    "sklearn_resultados.loc[('MultinomialNB | OneHotEncoding', 'Simple', 'Si'), 'Error tic-tac-toe'] = errtictactoe\n",
    "\n",
    "\n",
    "\n",
    "print(\"MultinomialNB OneHot - Cruzada - No Laplace\")\n",
    "errgerman = err_std_str.format(*probar_sklearn(X_german_onehot, y_german, vc, MultinomialNB, alpha=1e-09, fit_prior=True))\n",
    "errtictactoe = err_std_str.format(*probar_sklearn(X_tictactoe_onehot, y_tictactoe, vc, MultinomialNB, alpha=1e-09, fit_prior=True))\n",
    "sklearn_resultados.loc[('MultinomialNB | OneHotEncoding', 'Cruzada', 'No'), 'Error german'] = errgerman\n",
    "sklearn_resultados.loc[('MultinomialNB | OneHotEncoding', 'Cruzada', 'No'), 'Error tic-tac-toe'] = errtictactoe\n",
    "\n",
    "\n",
    "\n",
    "print(\"MultinomialNB OneHot - Cruzada - Laplace\")\n",
    "errgerman = err_std_str.format(*probar_sklearn(X_german_onehot, y_german, vc, MultinomialNB, alpha=1, fit_prior=True))\n",
    "errtictactoe = err_std_str.format(*probar_sklearn(X_tictactoe_onehot, y_tictactoe, vc, MultinomialNB, alpha=1, fit_prior=True))\n",
    "sklearn_resultados.loc[('MultinomialNB | OneHotEncoding', 'Cruzada', 'Si'), 'Error german'] = errgerman\n",
    "sklearn_resultados.loc[('MultinomialNB | OneHotEncoding', 'Cruzada', 'Si'), 'Error tic-tac-toe'] = errtictactoe"
   ]
  },
  {
   "cell_type": "markdown",
   "id": "4e0b91cb",
   "metadata": {},
   "source": [
    "# Memoria"
   ]
  },
  {
   "cell_type": "markdown",
   "id": "73bdec9e",
   "metadata": {},
   "source": [
    "# Apartado 1"
   ]
  },
  {
   "cell_type": "code",
   "execution_count": 14,
   "id": "5ab61d57",
   "metadata": {},
   "outputs": [
    {
     "data": {
      "text/html": [
       "<div>\n",
       "<style scoped>\n",
       "    .dataframe tbody tr th:only-of-type {\n",
       "        vertical-align: middle;\n",
       "    }\n",
       "\n",
       "    .dataframe tbody tr th {\n",
       "        vertical-align: top;\n",
       "    }\n",
       "\n",
       "    .dataframe thead th {\n",
       "        text-align: right;\n",
       "    }\n",
       "</style>\n",
       "<table border=\"1\" class=\"dataframe\">\n",
       "  <thead>\n",
       "    <tr style=\"text-align: right;\">\n",
       "      <th></th>\n",
       "      <th></th>\n",
       "      <th>Error tic-tac-toe</th>\n",
       "      <th>Error german</th>\n",
       "    </tr>\n",
       "    <tr>\n",
       "      <th>Validación</th>\n",
       "      <th>Corrección Laplace</th>\n",
       "      <th></th>\n",
       "      <th></th>\n",
       "    </tr>\n",
       "  </thead>\n",
       "  <tbody>\n",
       "    <tr>\n",
       "      <th rowspan=\"2\" valign=\"top\">Simple</th>\n",
       "      <th>Si</th>\n",
       "      <td>0.29633508 +/- 0.01175390</td>\n",
       "      <td>0.25400000 +/- 0.01854724</td>\n",
       "    </tr>\n",
       "    <tr>\n",
       "      <th>No</th>\n",
       "      <td>0.30785340 +/- 0.03023985</td>\n",
       "      <td>0.25400000 +/- 0.01392839</td>\n",
       "    </tr>\n",
       "    <tr>\n",
       "      <th rowspan=\"2\" valign=\"top\">Cruzada</th>\n",
       "      <th>Si</th>\n",
       "      <td>0.29235929 +/- 0.04889966</td>\n",
       "      <td>0.25300000 +/- 0.01720465</td>\n",
       "    </tr>\n",
       "    <tr>\n",
       "      <th>No</th>\n",
       "      <td>0.30274324 +/- 0.02151151</td>\n",
       "      <td>0.25100000 +/- 0.02083267</td>\n",
       "    </tr>\n",
       "  </tbody>\n",
       "</table>\n",
       "</div>"
      ],
      "text/plain": [
       "                                       Error tic-tac-toe  \\\n",
       "Validación Corrección Laplace                              \n",
       "Simple     Si                  0.29633508 +/- 0.01175390   \n",
       "           No                  0.30785340 +/- 0.03023985   \n",
       "Cruzada    Si                  0.29235929 +/- 0.04889966   \n",
       "           No                  0.30274324 +/- 0.02151151   \n",
       "\n",
       "                                            Error german  \n",
       "Validación Corrección Laplace                             \n",
       "Simple     Si                  0.25400000 +/- 0.01854724  \n",
       "           No                  0.25400000 +/- 0.01392839  \n",
       "Cruzada    Si                  0.25300000 +/- 0.01720465  \n",
       "           No                  0.25100000 +/- 0.02083267  "
      ]
     },
     "execution_count": 14,
     "metadata": {},
     "output_type": "execute_result"
    }
   ],
   "source": [
    "nuestros_resultados"
   ]
  },
  {
   "cell_type": "markdown",
   "id": "b9249cfc",
   "metadata": {},
   "source": [
    "Lo primero que apreciamos, es que nuestro clasificador obtiene mejores resultados con el dataset de german data en general. Posiblemente se deba a que tic-tac-toe tiene muchos menos atributos y son todos nominales.\n",
    "\n",
    "También vemos que tanto la validación simple como cruzada ofrecen un rendimiento muy similar, teniendo la validación cruzada una desviación algo mayor en general, pensamos que podría ser porque validación cruzada siempre se asegura que en las n iteraciones nunca se repita el test ya que va fold por fold asegurándose de que todos los datos pasan por el test alguna vez.\n",
    "\n",
    "Es decir si hay alguna fila que pueda provocar que suba mucho el error KFold se asegura que en alguna partición esté incluida, mientras que, validación simple es completamente aleatorio y a lo mejor algunas iteraciones coinciden o hay algunas líneas, que a lo mejor provocan que aumente el error, no aparecen.\n",
    "\n",
    "En cuanto al efecto Laplace, suaviza un poco las verosimilitudes añadiendo un “1” (u otro número, aunque luego explicamos por qué usamos el 1) a cada valor del atributo. Resuelve el problema de tener una probabilidad de cero si algún dato no aparece en el dataset de train, ya que ahora hay un 1 en esa casilla en vez de un cero. Al usar valores muy grandes al suavizar con Laplace, hacemos que las verosimilitudes se acerquen más a 1/número de valores del atributo. Por lo tanto es recomendable usar valores más pequeños (1 en nuestro caso)\n",
    "\n",
    "En nuestro caso concreto Laplace mejora ligeramente el resultado o lo mantiene igual, aunque en pocas ocasiones puede empeorar el resultado."
   ]
  },
  {
   "cell_type": "markdown",
   "id": "ca199a87",
   "metadata": {},
   "source": [
    "# Apartado 2"
   ]
  },
  {
   "cell_type": "code",
   "execution_count": 15,
   "id": "f9ebeb98",
   "metadata": {
    "scrolled": false
   },
   "outputs": [
    {
     "data": {
      "text/html": [
       "<div>\n",
       "<style scoped>\n",
       "    .dataframe tbody tr th:only-of-type {\n",
       "        vertical-align: middle;\n",
       "    }\n",
       "\n",
       "    .dataframe tbody tr th {\n",
       "        vertical-align: top;\n",
       "    }\n",
       "\n",
       "    .dataframe thead th {\n",
       "        text-align: right;\n",
       "    }\n",
       "</style>\n",
       "<table border=\"1\" class=\"dataframe\">\n",
       "  <thead>\n",
       "    <tr style=\"text-align: right;\">\n",
       "      <th></th>\n",
       "      <th></th>\n",
       "      <th></th>\n",
       "      <th>Error tic-tac-toe</th>\n",
       "      <th>Error german</th>\n",
       "    </tr>\n",
       "    <tr>\n",
       "      <th>Classifier</th>\n",
       "      <th>Validación</th>\n",
       "      <th>Laplace</th>\n",
       "      <th></th>\n",
       "      <th></th>\n",
       "    </tr>\n",
       "  </thead>\n",
       "  <tbody>\n",
       "    <tr>\n",
       "      <th rowspan=\"4\" valign=\"top\">CategoricalNB</th>\n",
       "      <th rowspan=\"2\" valign=\"top\">Cruzada</th>\n",
       "      <th>Si</th>\n",
       "      <td>0.29226658 +/- 0.02098081</td>\n",
       "      <td>0.26833333 +/- 0.01649916</td>\n",
       "    </tr>\n",
       "    <tr>\n",
       "      <th>No</th>\n",
       "      <td>0.30579188 +/- 0.03161378</td>\n",
       "      <td>0.32500000 +/- 0.03188521</td>\n",
       "    </tr>\n",
       "    <tr>\n",
       "      <th rowspan=\"2\" valign=\"top\">Simple</th>\n",
       "      <th>Si</th>\n",
       "      <td>0.28229167 +/- 0.02291667</td>\n",
       "      <td>0.27625000 +/- 0.01138804</td>\n",
       "    </tr>\n",
       "    <tr>\n",
       "      <th>No</th>\n",
       "      <td>0.30520833 +/- 0.02072890</td>\n",
       "      <td>0.31000000 +/- 0.01500000</td>\n",
       "    </tr>\n",
       "    <tr>\n",
       "      <th rowspan=\"2\" valign=\"top\">GaussianNB</th>\n",
       "      <th>Cruzada</th>\n",
       "      <th>N/A</th>\n",
       "      <td>0.29121946 +/- 0.01569761</td>\n",
       "      <td>0.26600000 +/- 0.01933908</td>\n",
       "    </tr>\n",
       "    <tr>\n",
       "      <th>Simple</th>\n",
       "      <th>N/A</th>\n",
       "      <td>0.30729167 +/- 0.02696287</td>\n",
       "      <td>0.26400000 +/- 0.01240967</td>\n",
       "    </tr>\n",
       "    <tr>\n",
       "      <th rowspan=\"4\" valign=\"top\">MultinomialNB</th>\n",
       "      <th rowspan=\"2\" valign=\"top\">Cruzada</th>\n",
       "      <th>Si</th>\n",
       "      <td>0.34552792 +/- 0.02519938</td>\n",
       "      <td>0.35800000 +/- 0.03203123</td>\n",
       "    </tr>\n",
       "    <tr>\n",
       "      <th>No</th>\n",
       "      <td>0.34341187 +/- 0.01217281</td>\n",
       "      <td>0.35900000 +/- 0.04127953</td>\n",
       "    </tr>\n",
       "    <tr>\n",
       "      <th rowspan=\"2\" valign=\"top\">Simple</th>\n",
       "      <th>Si</th>\n",
       "      <td>0.34583333 +/- 0.02993772</td>\n",
       "      <td>0.37900000 +/- 0.01240967</td>\n",
       "    </tr>\n",
       "    <tr>\n",
       "      <th>No</th>\n",
       "      <td>0.32708333 +/- 0.04651482</td>\n",
       "      <td>0.34000000 +/- 0.02024846</td>\n",
       "    </tr>\n",
       "    <tr>\n",
       "      <th rowspan=\"4\" valign=\"top\">MultinomialNB | OneHotEncoding</th>\n",
       "      <th rowspan=\"2\" valign=\"top\">Cruzada</th>\n",
       "      <th>Si</th>\n",
       "      <td>0.30165249 +/- 0.02974940</td>\n",
       "      <td>0.27000000 +/- 0.01673320</td>\n",
       "    </tr>\n",
       "    <tr>\n",
       "      <th>No</th>\n",
       "      <td>0.30071990 +/- 0.04869375</td>\n",
       "      <td>0.30900000 +/- 0.01827567</td>\n",
       "    </tr>\n",
       "    <tr>\n",
       "      <th rowspan=\"2\" valign=\"top\">Simple</th>\n",
       "      <th>Si</th>\n",
       "      <td>0.29895833 +/- 0.02149976</td>\n",
       "      <td>0.26700000 +/- 0.02619160</td>\n",
       "    </tr>\n",
       "    <tr>\n",
       "      <th>No</th>\n",
       "      <td>0.28020833 +/- 0.03644345</td>\n",
       "      <td>0.29500000 +/- 0.01702939</td>\n",
       "    </tr>\n",
       "  </tbody>\n",
       "</table>\n",
       "</div>"
      ],
      "text/plain": [
       "                                                           Error tic-tac-toe  \\\n",
       "Classifier                     Validación Laplace                              \n",
       "CategoricalNB                  Cruzada    Si       0.29226658 +/- 0.02098081   \n",
       "                                          No       0.30579188 +/- 0.03161378   \n",
       "                               Simple     Si       0.28229167 +/- 0.02291667   \n",
       "                                          No       0.30520833 +/- 0.02072890   \n",
       "GaussianNB                     Cruzada    N/A      0.29121946 +/- 0.01569761   \n",
       "                               Simple     N/A      0.30729167 +/- 0.02696287   \n",
       "MultinomialNB                  Cruzada    Si       0.34552792 +/- 0.02519938   \n",
       "                                          No       0.34341187 +/- 0.01217281   \n",
       "                               Simple     Si       0.34583333 +/- 0.02993772   \n",
       "                                          No       0.32708333 +/- 0.04651482   \n",
       "MultinomialNB | OneHotEncoding Cruzada    Si       0.30165249 +/- 0.02974940   \n",
       "                                          No       0.30071990 +/- 0.04869375   \n",
       "                               Simple     Si       0.29895833 +/- 0.02149976   \n",
       "                                          No       0.28020833 +/- 0.03644345   \n",
       "\n",
       "                                                                Error german  \n",
       "Classifier                     Validación Laplace                             \n",
       "CategoricalNB                  Cruzada    Si       0.26833333 +/- 0.01649916  \n",
       "                                          No       0.32500000 +/- 0.03188521  \n",
       "                               Simple     Si       0.27625000 +/- 0.01138804  \n",
       "                                          No       0.31000000 +/- 0.01500000  \n",
       "GaussianNB                     Cruzada    N/A      0.26600000 +/- 0.01933908  \n",
       "                               Simple     N/A      0.26400000 +/- 0.01240967  \n",
       "MultinomialNB                  Cruzada    Si       0.35800000 +/- 0.03203123  \n",
       "                                          No       0.35900000 +/- 0.04127953  \n",
       "                               Simple     Si       0.37900000 +/- 0.01240967  \n",
       "                                          No       0.34000000 +/- 0.02024846  \n",
       "MultinomialNB | OneHotEncoding Cruzada    Si       0.27000000 +/- 0.01673320  \n",
       "                                          No       0.30900000 +/- 0.01827567  \n",
       "                               Simple     Si       0.26700000 +/- 0.02619160  \n",
       "                                          No       0.29500000 +/- 0.01702939  "
      ]
     },
     "execution_count": 15,
     "metadata": {},
     "output_type": "execute_result"
    }
   ],
   "source": [
    "sklearn_resultados"
   ]
  },
  {
   "cell_type": "markdown",
   "id": "c3750257",
   "metadata": {},
   "source": [
    "<b>CategoricalNB:</b><br>\n",
    "* alphafloat es la aplicación de Laplace, nosotros solo usamos 1 o 0 porque en nuestra implementación propia o sumamos 1 o no sumamos nada, pero en sklearn te deja usar valores intermedios.\n",
    "\n",
    "* fit_prior: Lo seteamos a True porque se corresponde a lo que hacemos en nuestra implementación propia, es decir calcular los priores para cada valor de la clase a partir de los datos. Si estuviese a False entonces usaría un prior uniforme, esto quiere decir que se usa siempre el mismo prior para hacer smoothing.\n",
    "\n",
    "Cuando implementamos CategoricalNB nos daba error al ejecutar porque algunos valores que aparecían en el test no aparecían en la fase de train, esto es porque usa una distribución Categórica.\n",
    "Además CategoricalNB trata los atributos como discretos.<br><br><br>\n",
    "\n",
    "\n",
    "<b>GaussianNB:</b><br>\n",
    "No usamos ningún atributo, ya que como usa una distribución gaussiana y asume que todos los atributos son continuos, no se puede aplicar Laplace. Además el resto de atributos no entendíamos que hacían ni podíamos relacionarlos con la teoría.<br><br>\n",
    "\n",
    "<b>MultinomialNB:</b><br>\n",
    "* alphafloat es la aplicación de Laplace, que ya hemos explicado en CategoricalNB.\n",
    "* fit_prior: Lo seteamos a True porque se corresponde a lo que hacemos en nuestra implementación propia y ya hemos explicado que hace en CategoricalNB.\n",
    "\n",
    "Al igual que CategoricalNB, MultinomialNB es para features discretas.<br><br>\n",
    "\n",
    "\n",
    "<b>MultinomialNB | OneHotEncoding:</b><br>\n",
    "OneHotEncoding consiste en separar atributos existentes en varios atributos de 1 y 0, es decir, si tenemos una clase con valores posibles 1,2,3,4, tendremos 4 atributos nuevos (1,2,3,4) con valores 1 o 0 dependiendo de si esa fila tiene ese valor o no, con lo que dejamos de asumir que las features tienen un orden.\n",
    "\n",
    "Se puede observar como el OneHotEncoding mejora mucho la tasa de error de MultinomialNB.\n",
    "Si revisamos los dataset podemos ver como german.data tiene, en los atributos nominales, una gran cantidad de valores posibles, esta puede ser la razón por la que para german la mejora es mucho mayor que para tic-tac-toe.\n",
    "\n",
    "Todos los clasificadores salvo MultonomialNB sin OneHotEncoding funcionan similar en el dataset de tic-tac-toe, siendo MultinomialNB con OneHotEncoding el que mejor rinde con una tasa del 28% de error.\n",
    "\n",
    "Respecto al dataset german.data GaussianNB funciona bastante mejor que los demás, esto puede ser porque, aún teniendo atributos nominales, el número de atributos continuos es mayor que en tic-tac-toe y GaussianNB funciona mejor en ellos, dado que sigan una distribución normal.\n",
    "\n",
    "De todos los clasificadores, el único de ellos que rinde mejor con german es GaussianNB, ya que ese dataset tiene varios atributos continuos. El resto rinden mejor con tic-tac-toe, ya que están diseñados para atributos discretos y tic-tac-toe solo tiene atributos discretos.\n"
   ]
  },
  {
   "cell_type": "markdown",
   "id": "0f723952",
   "metadata": {},
   "source": [
    "# Apartado 3"
   ]
  },
  {
   "cell_type": "markdown",
   "id": "52a9c825",
   "metadata": {},
   "source": [
    "Podemos ver que para ambos datasets, nuestra implementación es la que mejor precisión da. Esto se debe a que los algoritmos de SKLearn tratan todos los datos como si fuesen discretos o continuos (pero no ambos a la vez), mientras que nosotros sí distinguimos y calculamos las probabilidades de cada atributo de diferente forma dependiendo de si es continuo o discreto. \n",
    "\n",
    "A pesar de eso, una ventaja que tiene SKLearn es la velocidad de procesamiento ya que está programado con librerias en C y optimizaciones, mientras que nuestro código es python puro que es mucho más lento.\n",
    "\n",
    "Hemos usado la librería de time para medir el tiempo y compararlo y nuestra ejecución tarda de media 1,9 segundos mientras que sklearn terminaba en 0,00300s."
   ]
  }
 ],
 "metadata": {
  "kernelspec": {
   "display_name": "Python 3",
   "language": "python",
   "name": "python3"
  },
  "language_info": {
   "codemirror_mode": {
    "name": "ipython",
    "version": 3
   },
   "file_extension": ".py",
   "mimetype": "text/x-python",
   "name": "python",
   "nbconvert_exporter": "python",
   "pygments_lexer": "ipython3",
   "version": "3.6.8"
  }
 },
 "nbformat": 4,
 "nbformat_minor": 5
}
