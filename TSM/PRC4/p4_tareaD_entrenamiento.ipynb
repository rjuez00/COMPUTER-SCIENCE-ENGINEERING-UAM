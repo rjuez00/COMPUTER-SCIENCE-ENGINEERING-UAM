{
 "cells": [
  {
   "cell_type": "markdown",
   "metadata": {
    "id": "CJXJ_K9jyyTK"
   },
   "source": [
    "# Grado en Ingeniería de Tecnologías y Servicios de Telecomunicación / Grado en Ingeniería Informática\n",
    "### **Asignatura**: Tratamiento de Señales Visuales/Tratamiento de Señales Multimedia I\n",
    "### Práctica 4: Reconocimiento de escenas con Deep Learning\n",
    "\n",
    "---\n",
    "\n",
    "Autor: Juan C. SanMiguel (juancarlos.sanmiguel@uam.es), Universidad Autónoma de Madrid\n"
   ]
  },
  {
   "cell_type": "markdown",
   "metadata": {
    "id": "K02e8d23y0cH"
   },
   "source": [
    "# Entrenamiento red neuronal convolucional\n",
    "\n",
    "\n",
    "En este script interativo de python aprenderá a entrenar utilizando la API de alto nivel [Keras](https://www.tensorflow.org/api_docs/python/tf/keras) disponible para Tensorflow\n",
    "\n",
    "Tiempo estimado para completar este script: 35 minutos"
   ]
  },
  {
   "cell_type": "markdown",
   "metadata": {
    "id": "sA-x_l31zXnY"
   },
   "source": [
    "# 1.Preparación del entorno de trabajo\n",
    "\n",
    "A continuación tiene un conjunto de instrucciones para establecer el entorno de trabajo y descargar el dataset.\n",
    "\n",
    "* Verifique que la versión de Python es >3.6 y la versión de Tensorflow es 2.3.0\n",
    "\n",
    "* Adicionalmente procedemos a la descarga del dataset [Scenes15](http://www-vpu.eps.uam.es/~jcs/pub/scenes15.zip)  completo sin ninguna partición."
   ]
  },
  {
   "cell_type": "code",
   "execution_count": 1,
   "metadata": {
    "colab": {
     "base_uri": "https://localhost:8080/",
     "height": 1000
    },
    "executionInfo": {
     "elapsed": 65997,
     "status": "ok",
     "timestamp": 1639054586093,
     "user": {
      "displayName": "LuisRodrigo Practica4",
      "photoUrl": "https://lh3.googleusercontent.com/a/default-user=s64",
      "userId": "00177030157574122079"
     },
     "user_tz": -60
    },
    "id": "jqGQF0j1nqDU",
    "outputId": "f48cbbd4-41ae-4a4e-8363-ad486b7f6ba0"
   },
   "outputs": [
    {
     "name": "stdout",
     "output_type": "stream",
     "text": [
      "Collecting tensorflow==2.3.0\n",
      "  Downloading tensorflow-2.3.0-cp37-cp37m-manylinux2010_x86_64.whl (320.4 MB)\n",
      "\u001b[K     |████████████████████████████████| 320.4 MB 45 kB/s \n",
      "\u001b[?25hRequirement already satisfied: protobuf>=3.9.2 in /usr/local/lib/python3.7/dist-packages (from tensorflow==2.3.0) (3.17.3)\n",
      "Requirement already satisfied: keras-preprocessing<1.2,>=1.1.1 in /usr/local/lib/python3.7/dist-packages (from tensorflow==2.3.0) (1.1.2)\n",
      "Requirement already satisfied: wheel>=0.26 in /usr/local/lib/python3.7/dist-packages (from tensorflow==2.3.0) (0.37.0)\n",
      "Requirement already satisfied: google-pasta>=0.1.8 in /usr/local/lib/python3.7/dist-packages (from tensorflow==2.3.0) (0.2.0)\n",
      "Requirement already satisfied: opt-einsum>=2.3.2 in /usr/local/lib/python3.7/dist-packages (from tensorflow==2.3.0) (3.3.0)\n",
      "Requirement already satisfied: tensorboard<3,>=2.3.0 in /usr/local/lib/python3.7/dist-packages (from tensorflow==2.3.0) (2.7.0)\n",
      "Requirement already satisfied: six>=1.12.0 in /usr/local/lib/python3.7/dist-packages (from tensorflow==2.3.0) (1.15.0)\n",
      "Collecting gast==0.3.3\n",
      "  Downloading gast-0.3.3-py2.py3-none-any.whl (9.7 kB)\n",
      "Requirement already satisfied: termcolor>=1.1.0 in /usr/local/lib/python3.7/dist-packages (from tensorflow==2.3.0) (1.1.0)\n",
      "Collecting h5py<2.11.0,>=2.10.0\n",
      "  Downloading h5py-2.10.0-cp37-cp37m-manylinux1_x86_64.whl (2.9 MB)\n",
      "\u001b[K     |████████████████████████████████| 2.9 MB 34.5 MB/s \n",
      "\u001b[?25hCollecting numpy<1.19.0,>=1.16.0\n",
      "  Downloading numpy-1.18.5-cp37-cp37m-manylinux1_x86_64.whl (20.1 MB)\n",
      "\u001b[K     |████████████████████████████████| 20.1 MB 61.8 MB/s \n",
      "\u001b[?25hCollecting tensorflow-estimator<2.4.0,>=2.3.0\n",
      "  Downloading tensorflow_estimator-2.3.0-py2.py3-none-any.whl (459 kB)\n",
      "\u001b[K     |████████████████████████████████| 459 kB 43.8 MB/s \n",
      "\u001b[?25hRequirement already satisfied: astunparse==1.6.3 in /usr/local/lib/python3.7/dist-packages (from tensorflow==2.3.0) (1.6.3)\n",
      "Requirement already satisfied: absl-py>=0.7.0 in /usr/local/lib/python3.7/dist-packages (from tensorflow==2.3.0) (0.12.0)\n",
      "Requirement already satisfied: wrapt>=1.11.1 in /usr/local/lib/python3.7/dist-packages (from tensorflow==2.3.0) (1.13.3)\n",
      "Requirement already satisfied: scipy==1.4.1 in /usr/local/lib/python3.7/dist-packages (from tensorflow==2.3.0) (1.4.1)\n",
      "Requirement already satisfied: grpcio>=1.8.6 in /usr/local/lib/python3.7/dist-packages (from tensorflow==2.3.0) (1.42.0)\n",
      "Requirement already satisfied: tensorboard-plugin-wit>=1.6.0 in /usr/local/lib/python3.7/dist-packages (from tensorboard<3,>=2.3.0->tensorflow==2.3.0) (1.8.0)\n",
      "Requirement already satisfied: google-auth-oauthlib<0.5,>=0.4.1 in /usr/local/lib/python3.7/dist-packages (from tensorboard<3,>=2.3.0->tensorflow==2.3.0) (0.4.6)\n",
      "Requirement already satisfied: tensorboard-data-server<0.7.0,>=0.6.0 in /usr/local/lib/python3.7/dist-packages (from tensorboard<3,>=2.3.0->tensorflow==2.3.0) (0.6.1)\n",
      "Requirement already satisfied: google-auth<3,>=1.6.3 in /usr/local/lib/python3.7/dist-packages (from tensorboard<3,>=2.3.0->tensorflow==2.3.0) (1.35.0)\n",
      "Requirement already satisfied: markdown>=2.6.8 in /usr/local/lib/python3.7/dist-packages (from tensorboard<3,>=2.3.0->tensorflow==2.3.0) (3.3.6)\n",
      "Requirement already satisfied: requests<3,>=2.21.0 in /usr/local/lib/python3.7/dist-packages (from tensorboard<3,>=2.3.0->tensorflow==2.3.0) (2.23.0)\n",
      "Requirement already satisfied: setuptools>=41.0.0 in /usr/local/lib/python3.7/dist-packages (from tensorboard<3,>=2.3.0->tensorflow==2.3.0) (57.4.0)\n",
      "Requirement already satisfied: werkzeug>=0.11.15 in /usr/local/lib/python3.7/dist-packages (from tensorboard<3,>=2.3.0->tensorflow==2.3.0) (1.0.1)\n",
      "Requirement already satisfied: cachetools<5.0,>=2.0.0 in /usr/local/lib/python3.7/dist-packages (from google-auth<3,>=1.6.3->tensorboard<3,>=2.3.0->tensorflow==2.3.0) (4.2.4)\n",
      "Requirement already satisfied: rsa<5,>=3.1.4 in /usr/local/lib/python3.7/dist-packages (from google-auth<3,>=1.6.3->tensorboard<3,>=2.3.0->tensorflow==2.3.0) (4.8)\n",
      "Requirement already satisfied: pyasn1-modules>=0.2.1 in /usr/local/lib/python3.7/dist-packages (from google-auth<3,>=1.6.3->tensorboard<3,>=2.3.0->tensorflow==2.3.0) (0.2.8)\n",
      "Requirement already satisfied: requests-oauthlib>=0.7.0 in /usr/local/lib/python3.7/dist-packages (from google-auth-oauthlib<0.5,>=0.4.1->tensorboard<3,>=2.3.0->tensorflow==2.3.0) (1.3.0)\n",
      "Requirement already satisfied: importlib-metadata>=4.4 in /usr/local/lib/python3.7/dist-packages (from markdown>=2.6.8->tensorboard<3,>=2.3.0->tensorflow==2.3.0) (4.8.2)\n",
      "Requirement already satisfied: typing-extensions>=3.6.4 in /usr/local/lib/python3.7/dist-packages (from importlib-metadata>=4.4->markdown>=2.6.8->tensorboard<3,>=2.3.0->tensorflow==2.3.0) (3.10.0.2)\n",
      "Requirement already satisfied: zipp>=0.5 in /usr/local/lib/python3.7/dist-packages (from importlib-metadata>=4.4->markdown>=2.6.8->tensorboard<3,>=2.3.0->tensorflow==2.3.0) (3.6.0)\n",
      "Requirement already satisfied: pyasn1<0.5.0,>=0.4.6 in /usr/local/lib/python3.7/dist-packages (from pyasn1-modules>=0.2.1->google-auth<3,>=1.6.3->tensorboard<3,>=2.3.0->tensorflow==2.3.0) (0.4.8)\n",
      "Requirement already satisfied: certifi>=2017.4.17 in /usr/local/lib/python3.7/dist-packages (from requests<3,>=2.21.0->tensorboard<3,>=2.3.0->tensorflow==2.3.0) (2021.10.8)\n",
      "Requirement already satisfied: chardet<4,>=3.0.2 in /usr/local/lib/python3.7/dist-packages (from requests<3,>=2.21.0->tensorboard<3,>=2.3.0->tensorflow==2.3.0) (3.0.4)\n",
      "Requirement already satisfied: urllib3!=1.25.0,!=1.25.1,<1.26,>=1.21.1 in /usr/local/lib/python3.7/dist-packages (from requests<3,>=2.21.0->tensorboard<3,>=2.3.0->tensorflow==2.3.0) (1.24.3)\n",
      "Requirement already satisfied: idna<3,>=2.5 in /usr/local/lib/python3.7/dist-packages (from requests<3,>=2.21.0->tensorboard<3,>=2.3.0->tensorflow==2.3.0) (2.10)\n",
      "Requirement already satisfied: oauthlib>=3.0.0 in /usr/local/lib/python3.7/dist-packages (from requests-oauthlib>=0.7.0->google-auth-oauthlib<0.5,>=0.4.1->tensorboard<3,>=2.3.0->tensorflow==2.3.0) (3.1.1)\n",
      "Installing collected packages: numpy, tensorflow-estimator, h5py, gast, tensorflow\n",
      "  Attempting uninstall: numpy\n",
      "    Found existing installation: numpy 1.19.5\n",
      "    Uninstalling numpy-1.19.5:\n",
      "      Successfully uninstalled numpy-1.19.5\n",
      "  Attempting uninstall: tensorflow-estimator\n",
      "    Found existing installation: tensorflow-estimator 2.7.0\n",
      "    Uninstalling tensorflow-estimator-2.7.0:\n",
      "      Successfully uninstalled tensorflow-estimator-2.7.0\n",
      "  Attempting uninstall: h5py\n",
      "    Found existing installation: h5py 3.1.0\n",
      "    Uninstalling h5py-3.1.0:\n",
      "      Successfully uninstalled h5py-3.1.0\n",
      "  Attempting uninstall: gast\n",
      "    Found existing installation: gast 0.4.0\n",
      "    Uninstalling gast-0.4.0:\n",
      "      Successfully uninstalled gast-0.4.0\n",
      "  Attempting uninstall: tensorflow\n",
      "    Found existing installation: tensorflow 2.7.0\n",
      "    Uninstalling tensorflow-2.7.0:\n",
      "      Successfully uninstalled tensorflow-2.7.0\n",
      "\u001b[31mERROR: pip's dependency resolver does not currently take into account all the packages that are installed. This behaviour is the source of the following dependency conflicts.\n",
      "datascience 0.10.6 requires folium==0.2.1, but you have folium 0.8.3 which is incompatible.\n",
      "albumentations 0.1.12 requires imgaug<0.2.7,>=0.2.5, but you have imgaug 0.2.9 which is incompatible.\u001b[0m\n",
      "Successfully installed gast-0.3.3 h5py-2.10.0 numpy-1.18.5 tensorflow-2.3.0 tensorflow-estimator-2.3.0\n"
     ]
    },
    {
     "data": {
      "application/vnd.colab-display-data+json": {
       "pip_warning": {
        "packages": [
         "numpy"
        ]
       }
      }
     },
     "metadata": {},
     "output_type": "display_data"
    },
    {
     "name": "stdout",
     "output_type": "stream",
     "text": [
      "Python 3.7.12\n",
      "Tensorflow 2.3.0\n"
     ]
    }
   ],
   "source": [
    "#%%capture\n",
    "#%tensorflow_version 2.x\n",
    "!pip install tensorflow==2.3.0\n",
    "import tensorflow as tf\n",
    "import os, subprocess\n",
    "!python --version                     # mostrar version de python\n",
    "print('Tensorflow ' + tf.__version__) # mostrar version tensorflow"
   ]
  },
  {
   "cell_type": "code",
   "execution_count": 2,
   "metadata": {
    "colab": {
     "base_uri": "https://localhost:8080/"
    },
    "executionInfo": {
     "elapsed": 24759,
     "status": "ok",
     "timestamp": 1639054610841,
     "user": {
      "displayName": "LuisRodrigo Practica4",
      "photoUrl": "https://lh3.googleusercontent.com/a/default-user=s64",
      "userId": "00177030157574122079"
     },
     "user_tz": -60
    },
    "id": "EPdpMHDbXyNV",
    "outputId": "f102c38d-f308-41ff-ed3a-358da715f2d6"
   },
   "outputs": [
    {
     "name": "stdout",
     "output_type": "stream",
     "text": [
      "Mounted at /content/gdrive\n",
      "El dataset se encuentra descargado en el directorio /content/gdrive/My Drive/dwld_dir \n",
      "y descomprimido en el directorio /content/work_dir (usado para lectura de datos)\n"
     ]
    }
   ],
   "source": [
    "import os, subprocess\n",
    "\n",
    "# Montar Google Drive y crear carpetas\n",
    "from google.colab import drive\n",
    "drive.mount('/content/gdrive', force_remount=True)\n",
    "\n",
    "work_dir = '/content/work_dir'                    # directorio de trabajo en local (mas rapido)\n",
    "dwld_dir = '/content/gdrive/My Drive/dwld_dir'    # directorio de descarga en Google drive personal\n",
    "subprocess.call([\"mkdir\",\"-p\",work_dir])          # crear directorio para trabajo\n",
    "subprocess.call([\"mkdir\",\"-p\",dwld_dir+'/dataset/'])  # crear directorio para dataset\n",
    "\n",
    "os.chdir(dwld_dir+'/dataset/')                        # posicionarse en el directorio\n",
    "# Descargar dataset scenes15 si no esta disponible\n",
    "if os.path.isfile('./dataset_scenes15.zip') == False: \n",
    "  !wget http://www-vpu.eps.uam.es/~jcs/tsv/dataset_scenes15.zip \n",
    "  \n",
    "# Copiar el dataset al directorio local (mayor velocidad de lectura que en Gdrive)\n",
    "!cp /content/gdrive/My\\ Drive/dwld_dir/dataset/dataset_scenes15.zip /content/work_dir/\n",
    "\n",
    "os.chdir(work_dir)                        # posicionarse en el directorio\n",
    "if os.path.isdir('./scenes15') == False: \n",
    "  !unzip -o -q dataset_scenes15.zip -d .\n",
    "\n",
    "print('El dataset se encuentra descargado en el directorio {} \\ny descomprimido en el directorio {} (usado para lectura de datos)'.format(dwld_dir, work_dir))"
   ]
  },
  {
   "cell_type": "markdown",
   "metadata": {
    "id": "rowN1rXsT0tA"
   },
   "source": [
    "# 2.Seleccionar Hardware\n",
    "Antes de comenzar el entrenamiento, debemos seleccionar que recursos hardware queremos utilizar para realizar los cálculos. \n",
    "\n",
    "Tensorflow permite ejecutar nuestras instrucciones utilizando la CPU (Central Processing Unit) y la GPU (Graphics Processing Unit). Para redes con múltiples capas, se recomienda utilizar la GPU por su alta capacidad de paralelización.\n",
    "\n",
    "Con el siguiente código puede ver los recursos disponibles y seleccionar el hardware:"
   ]
  },
  {
   "cell_type": "code",
   "execution_count": 3,
   "metadata": {
    "colab": {
     "base_uri": "https://localhost:8080/"
    },
    "executionInfo": {
     "elapsed": 7628,
     "status": "ok",
     "timestamp": 1639054618466,
     "user": {
      "displayName": "LuisRodrigo Practica4",
      "photoUrl": "https://lh3.googleusercontent.com/a/default-user=s64",
      "userId": "00177030157574122079"
     },
     "user_tz": -60
    },
    "id": "inQhk_Ks5kNx",
    "outputId": "a4178102-1fff-4f59-d130-41a47df67ed2"
   },
   "outputs": [
    {
     "name": "stdout",
     "output_type": "stream",
     "text": [
      "Num CPUs disponibles:  1\n",
      "Num GPUs disponibles:  1\n",
      "Tiempo ejecución CPU 1.743623971939087 secs y GPU 3.056006669998169 secs\n",
      "Ejecute varias veces este bloque de código pues la primera vez no observará diferencias debido a que se deben inicializar los registros para la CPU y GPU\n"
     ]
    }
   ],
   "source": [
    "import tensorflow as tf\n",
    "import time\n",
    "\n",
    "print(\"Num CPUs disponibles: \", len(tf.config.experimental.list_physical_devices('CPU')))\n",
    "print(\"Num GPUs disponibles: \", len(tf.config.experimental.list_physical_devices('GPU')))\n",
    "\n",
    "time1 = time.time() # medida de tiempo\n",
    "\n",
    "# ejecutar en CPU\n",
    "with tf.device('/CPU:0'):\n",
    "  random_image_cpu = tf.random.normal((100, 100, 100, 3))\n",
    "  net_cpu = tf.keras.layers.Conv2D(128, 7)(random_image_cpu)\n",
    "\n",
    "time2 = time.time() # medida de tiempo\n",
    "\n",
    "# ejecutar en GPU\n",
    "with tf.device('/device:GPU:0'):\n",
    "  random_image_cpu = tf.random.normal((100, 100, 100, 3))\n",
    "  net_cpu = tf.keras.layers.Conv2D(128, 7)(random_image_cpu)\n",
    "\n",
    "time3 = time.time() # medida de tiempo\n",
    "print('Tiempo ejecución CPU {} secs y GPU {} secs' .format(time2-time1, time3-time2))\n",
    "print('Ejecute varias veces este bloque de código pues la primera vez no observará diferencias debido a que se deben inicializar los registros para la CPU y GPU')"
   ]
  },
  {
   "cell_type": "markdown",
   "metadata": {
    "id": "wZ-Lgx62UpLV"
   },
   "source": [
    "# 3.Crear iterador para los datos del dataset\n",
    "El siguiente paso es obtener un iterador sobre los datos del dataset. Como ya se ha visto anteriormente, utilizaremos la funcionalidad ```tf.keras.preprocessing.image.ImageDataGenerator``` [documentación](https://www.tensorflow.org/api_docs/python/tf/keras/preprocessing/image/ImageDataGenerator)"
   ]
  },
  {
   "cell_type": "code",
   "execution_count": 4,
   "metadata": {
    "colab": {
     "base_uri": "https://localhost:8080/"
    },
    "executionInfo": {
     "elapsed": 28,
     "status": "ok",
     "timestamp": 1639054618467,
     "user": {
      "displayName": "LuisRodrigo Practica4",
      "photoUrl": "https://lh3.googleusercontent.com/a/default-user=s64",
      "userId": "00177030157574122079"
     },
     "user_tz": -60
    },
    "id": "H7mraO4hXMdT",
    "outputId": "a818190a-8922-4af4-8179-957c55fcd39f"
   },
   "outputs": [
    {
     "name": "stdout",
     "output_type": "stream",
     "text": [
      "Found 3592 images belonging to 15 classes.\n",
      "Found 893 images belonging to 15 classes.\n"
     ]
    }
   ],
   "source": [
    "import tensorflow as tf\n",
    "import pathlib\n",
    "import numpy as np\n",
    "\n",
    "dataset_dir = pathlib.Path(work_dir + '/scenes15/')\n",
    "\n",
    "# Obtener etiquetas de clase y numero de clases\n",
    "CLASS_NAMES = np.array([item.name for item in dataset_dir.glob('*')]) #clases son subdirectorios de '/train/'\n",
    "NUM_CLASSES = len(CLASS_NAMES) # numero total de clases\n",
    " \n",
    "# Crear ImageDataGenerator convirtiendo de uint8 a float32 en el rango [0,1].\n",
    "img_gen = tf.keras.preprocessing.image.ImageDataGenerator(rescale=1./255, validation_split=0.20)\n",
    "\n",
    "# Obtenemos un iterador sobre los datos de entrenamiento del dataset\n",
    "# aplicando el ImageDataGenerator creado anteriormente\n",
    "BATCH_SIZE = 16 # numero de elementos procesados conjuntamente en cada iteracion\n",
    "IMG_HEIGHT = 32\n",
    "IMG_WIDTH = 32\n",
    "IMG_CHANNELS = 3\n",
    "train_data_gen = img_gen.flow_from_directory(directory=str(dataset_dir),\n",
    "                                          target_size=(IMG_HEIGHT, IMG_WIDTH),\n",
    "                                          color_mode='rgb',                                                     \n",
    "                                          classes = list(CLASS_NAMES),\n",
    "                                          class_mode='categorical',\n",
    "                                          batch_size=BATCH_SIZE, \n",
    "                                          subset=\"training\",                                         \n",
    "                                          shuffle=True,\n",
    "                                          seed=0)\n",
    "\n",
    "test_data_gen = img_gen.flow_from_directory(directory=str(dataset_dir),\n",
    "                                          target_size=(IMG_HEIGHT, IMG_WIDTH),\n",
    "                                          color_mode='rgb',                                                     \n",
    "                                          classes = list(CLASS_NAMES),\n",
    "                                          class_mode='categorical',\n",
    "                                          batch_size=BATCH_SIZE,\n",
    "                                          subset=\"validation\",\n",
    "                                          shuffle=True,\n",
    "                                          seed=0)\n"
   ]
  },
  {
   "cell_type": "markdown",
   "metadata": {
    "id": "1VKYSbgdVegf"
   },
   "source": [
    "# 4.Definir red \n",
    "Posteriormente definimos la red utilizando la funcionalidad ```tensorflow.keras.model``` [[documentación]](https://www.tensorflow.org/api_docs/python/tf/keras/Model) y la funcionalidad ```tf.keras.layers``` [documentación](https://www.tensorflow.org/api_docs/python/tf/keras/layers), descrita anteriormente."
   ]
  },
  {
   "cell_type": "code",
   "execution_count": 5,
   "metadata": {
    "colab": {
     "base_uri": "https://localhost:8080/"
    },
    "executionInfo": {
     "elapsed": 24,
     "status": "ok",
     "timestamp": 1639054618468,
     "user": {
      "displayName": "LuisRodrigo Practica4",
      "photoUrl": "https://lh3.googleusercontent.com/a/default-user=s64",
      "userId": "00177030157574122079"
     },
     "user_tz": -60
    },
    "id": "mdbLEOLDVY5R",
    "outputId": "3d6cf653-b38b-49b4-e743-c4b6bb80a7ef"
   },
   "outputs": [
    {
     "name": "stdout",
     "output_type": "stream",
     "text": [
      "Model: \"sequential\"\n",
      "_________________________________________________________________\n",
      "Layer (type)                 Output Shape              Param #   \n",
      "=================================================================\n",
      "conv2d_2 (Conv2D)            (None, 30, 30, 6)         168       \n",
      "_________________________________________________________________\n",
      "average_pooling2d (AveragePo (None, 15, 15, 6)         0         \n",
      "_________________________________________________________________\n",
      "conv2d_3 (Conv2D)            (None, 13, 13, 16)        880       \n",
      "_________________________________________________________________\n",
      "average_pooling2d_1 (Average (None, 6, 6, 16)          0         \n",
      "_________________________________________________________________\n",
      "flatten (Flatten)            (None, 576)               0         \n",
      "_________________________________________________________________\n",
      "dense (Dense)                (None, 120)               69240     \n",
      "_________________________________________________________________\n",
      "dense_1 (Dense)              (None, 84)                10164     \n",
      "_________________________________________________________________\n",
      "dense_2 (Dense)              (None, 15)                1275      \n",
      "=================================================================\n",
      "Total params: 81,727\n",
      "Trainable params: 81,727\n",
      "Non-trainable params: 0\n",
      "_________________________________________________________________\n"
     ]
    }
   ],
   "source": [
    "import tensorflow.keras.layers as layers\n",
    "import tensorflow.keras.models as models\n",
    "\n",
    "# definir modelo de red\n",
    "model = models.Sequential()\n",
    "\n",
    "# incluir capa convolucional C1\n",
    "model.add(layers.Conv2D(filters=6, \n",
    "                        kernel_size=(3, 3), \n",
    "                        strides = (1,1),\n",
    "                        padding = 'valid',\n",
    "                        activation='relu', \n",
    "                        input_shape=(IMG_HEIGHT,IMG_WIDTH,IMG_CHANNELS)))\n",
    "\n",
    "# incluir average pooling S2\n",
    "model.add(layers.AveragePooling2D())\n",
    "\n",
    "# incluir capa convolucional C3\n",
    "model.add(layers.Conv2D(filters=16, \n",
    "                        kernel_size=(3, 3),\n",
    "                        strides = (1,1),\n",
    "                        padding = 'valid', \n",
    "                        activation='relu'))\n",
    "\n",
    "# incluir average pooling S4\n",
    "model.add(layers.AveragePooling2D())\n",
    "\n",
    "# convertir el volumen de datos en vector fila para conectarlo con capa FC\n",
    "model.add(layers.Flatten())\n",
    "\n",
    "# incluir fully convolutional F5\n",
    "model.add(layers.Dense(units=120, activation='relu'))\n",
    "\n",
    "# incluir fully convolutional F6\n",
    "model.add(layers.Dense(units=84, activation='relu'))\n",
    "\n",
    "# incluir salida OUTPUT\n",
    "model.add(layers.Dense(units=NUM_CLASSES, activation = 'softmax'))\n",
    "\n",
    "\n",
    "# mostar resumen\n",
    "model.summary()"
   ]
  },
  {
   "cell_type": "markdown",
   "metadata": {
    "id": "64KB6K9TWvBt"
   },
   "source": [
    "#5.Definir parámetros de optimización\n",
    "La siguiente etapa consiste en detallar los parámetros que van a definir la optimización a realizar.\n",
    "\n",
    "Para esta tarea utilizaremos la funcionalidad ```tensorflow.keras.model``` [[documentación]](https://www.tensorflow.org/api_docs/python/tf/keras/Model) y en concreto el método ```tensorflow.keras.model.compile``` [[documentacion]](https://www.tensorflow.org/api_docs/python/tf/keras/Model#compile)\n",
    "\n",
    "El método ```tensorflow.keras.model.compile``` tiene los siguientes argumentos principales:\n",
    "* **optimizer**: string que indica el nombre del optimizado seleccionado (que se utilizará con valores por defecto).  También puede ser un objeto optimizador con valores específicos. Puede consultar la lista de optimizadores disponibles [[aquí]](https://www.tensorflow.org/api_docs/python/tf/keras/optimizers).\n",
    "\n",
    "* **loss**: string que indica el tipo de función objetivo a utilizar. Puede consultar la lista de opciones disponibles [[aquí]](https://www.tensorflow.org/api_docs/python/tf/losses).\n",
    "* **metrics**: lista de métricas para evaluar el modelo durante entrenamiento y test.\n",
    "\n",
    "A continuación se muestra un ejemplo para definir estos parámetros.\n",
    "\n",
    "\n",
    "\n"
   ]
  },
  {
   "cell_type": "code",
   "execution_count": 6,
   "metadata": {
    "executionInfo": {
     "elapsed": 21,
     "status": "ok",
     "timestamp": 1639054618469,
     "user": {
      "displayName": "LuisRodrigo Practica4",
      "photoUrl": "https://lh3.googleusercontent.com/a/default-user=s64",
      "userId": "00177030157574122079"
     },
     "user_tz": -60
    },
    "id": "THDbaZlFWvbG"
   },
   "outputs": [],
   "source": [
    "import tensorflow.keras.optimizers as optimizers\n",
    "\n",
    "# definicion con optimizador con valores definidos por el usuario\n",
    "LEARNING_RATE = 0.01 # factor de aprendizaje\n",
    "model.compile(optimizer=optimizers.SGD(lr=LEARNING_RATE),            \n",
    "            loss='categorical_crossentropy',            \n",
    "            metrics=['accuracy'])"
   ]
  },
  {
   "cell_type": "markdown",
   "metadata": {
    "id": "v3NBmp_DZnl_"
   },
   "source": [
    "# 6.Ejecución del entrenamiento\n",
    "Finalmente, procedemos a realizar el entrenamiento utilizando la funcionalidad ```tensorflow.keras.model``` [[documentación]](https://www.tensorflow.org/api_docs/python/tf/keras/Model) y en concreto el método ```tensorflow.keras.model.fit_generator``` [[documentacion]](https://www.tensorflow.org/api_docs/python/tf/keras/Model#fit_generator). \n",
    "\n",
    "\n",
    "Adicionalmente, este método permite definir un conjunto de validación que se evalua al terminar cada época. En este caso utilizaremos el conjunto de test que nos permitirá comprender mejor el proceso de entrenamiento.\n",
    "\n",
    "El tiempo estimado para completar el entrenamiento con EPOCHS=10 es ~70 secs (GPU) y ~100 secs (CPU)."
   ]
  },
  {
   "cell_type": "code",
   "execution_count": 7,
   "metadata": {
    "colab": {
     "base_uri": "https://localhost:8080/"
    },
    "executionInfo": {
     "elapsed": 54373,
     "status": "ok",
     "timestamp": 1639054672822,
     "user": {
      "displayName": "LuisRodrigo Practica4",
      "photoUrl": "https://lh3.googleusercontent.com/a/default-user=s64",
      "userId": "00177030157574122079"
     },
     "user_tz": -60
    },
    "id": "JLEZA2yhmqW1",
    "outputId": "5018eee4-015a-4b82-c3a5-6c2cf12b090d"
   },
   "outputs": [
    {
     "name": "stdout",
     "output_type": "stream",
     "text": [
      "WARNING:tensorflow:From <ipython-input-7-cfef27e7350d>:17: Model.fit_generator (from tensorflow.python.keras.engine.training) is deprecated and will be removed in a future version.\n",
      "Instructions for updating:\n",
      "Please use Model.fit, which supports generators.\n",
      "Epoch 1/10\n",
      "224/224 [==============================] - 6s 27ms/step - loss: 2.6911 - accuracy: 0.0881 - val_loss: 2.6811 - val_accuracy: 0.0989\n",
      "Epoch 2/10\n",
      "224/224 [==============================] - 6s 26ms/step - loss: 2.6465 - accuracy: 0.1158 - val_loss: 2.6341 - val_accuracy: 0.1159\n",
      "Epoch 3/10\n",
      "224/224 [==============================] - 5s 24ms/step - loss: 2.5787 - accuracy: 0.1454 - val_loss: 2.6409 - val_accuracy: 0.1057\n",
      "Epoch 4/10\n",
      "224/224 [==============================] - 6s 27ms/step - loss: 2.5183 - accuracy: 0.1770 - val_loss: 2.5861 - val_accuracy: 0.1341\n",
      "Epoch 5/10\n",
      "224/224 [==============================] - 6s 27ms/step - loss: 2.4704 - accuracy: 0.1840 - val_loss: 2.6102 - val_accuracy: 0.1364\n",
      "Epoch 6/10\n",
      "224/224 [==============================] - 6s 28ms/step - loss: 2.4286 - accuracy: 0.2061 - val_loss: 2.5250 - val_accuracy: 0.1773\n",
      "Epoch 7/10\n",
      "224/224 [==============================] - 5s 22ms/step - loss: 2.3873 - accuracy: 0.2251 - val_loss: 2.5237 - val_accuracy: 0.1761\n",
      "Epoch 8/10\n",
      "224/224 [==============================] - 5s 21ms/step - loss: 2.3508 - accuracy: 0.2369 - val_loss: 2.4760 - val_accuracy: 0.1898\n",
      "Epoch 9/10\n",
      "224/224 [==============================] - 5s 21ms/step - loss: 2.3109 - accuracy: 0.2483 - val_loss: 2.4326 - val_accuracy: 0.2227\n",
      "Epoch 10/10\n",
      "224/224 [==============================] - 5s 22ms/step - loss: 2.2687 - accuracy: 0.2685 - val_loss: 2.3961 - val_accuracy: 0.2364\n",
      "Entrenamiento terminado 55.8510160446167 secs\n"
     ]
    }
   ],
   "source": [
    "import time\n",
    "stime = time.time() # medida inicial de tiempo\n",
    "\n",
    "EPOCHS = 10 # numero de epocas para entrenamiento\n",
    "\n",
    "#si tiene problemas al ejecutar con la GPU, \n",
    "# descomente la siguiente linea para utilizar la CPU\n",
    "# y comente la linea que selecciona la GPU\n",
    "#with tf.device('/CPU:0'):\n",
    "with tf.device('/GPU:0'):\n",
    "  history = model.fit_generator(\n",
    "      generator=train_data_gen,          \n",
    "      steps_per_epoch=train_data_gen.n // BATCH_SIZE,      \n",
    "      validation_data=test_data_gen,\n",
    "      validation_steps=test_data_gen.n // BATCH_SIZE,\n",
    "      epochs=EPOCHS,\n",
    "      verbose=1     \n",
    "  )  \n",
    "      \n",
    "ftime = time.time() # medida final de tiempo\n",
    "print('Entrenamiento terminado {} secs' .format(ftime-stime))"
   ]
  },
  {
   "cell_type": "markdown",
   "metadata": {
    "id": "sypzcICZeIzD"
   },
   "source": [
    "#7.Ejecucion de test\n",
    "Para evaluar los datos de test, también utilizaremos la funcionalidad ```tensorflow.keras.model``` [[documentación]](https://www.tensorflow.org/api_docs/python/tf/keras/Model) y en concreto el método ```tensorflow.keras.model.evaluate_generator``` [[documentacion]](https://www.tensorflow.org/api_docs/python/tf/keras/Model#evaluate_generator). \n",
    "\n",
    "El tiempo estimado para completar el test es de ~8 secs (GPU). Este método es muy sencillo de utilizar:\n"
   ]
  },
  {
   "cell_type": "code",
   "execution_count": 8,
   "metadata": {
    "colab": {
     "base_uri": "https://localhost:8080/"
    },
    "executionInfo": {
     "elapsed": 1105,
     "status": "ok",
     "timestamp": 1639054673892,
     "user": {
      "displayName": "LuisRodrigo Practica4",
      "photoUrl": "https://lh3.googleusercontent.com/a/default-user=s64",
      "userId": "00177030157574122079"
     },
     "user_tz": -60
    },
    "id": "VFRJ2PBCeLD2",
    "outputId": "dfdaa7a1-f4f1-4a24-eea2-5ac1703c02dc"
   },
   "outputs": [
    {
     "name": "stdout",
     "output_type": "stream",
     "text": [
      "WARNING:tensorflow:From <ipython-input-8-066510aecb49>:11: Model.evaluate_generator (from tensorflow.python.keras.engine.training) is deprecated and will be removed in a future version.\n",
      "Instructions for updating:\n",
      "Please use Model.evaluate, which supports generators.\n",
      "55/55 [==============================] - 1s 20ms/step - loss: 2.3970 - accuracy: 0.2375\n",
      "Test terminado 1.2217564582824707 secs\n"
     ]
    }
   ],
   "source": [
    "import time\n",
    "stime = time.time() # medida inicial de tiempo\n",
    "\n",
    "#si tiene problemas al ejecutar con la GPU, \n",
    "# descomente la siguiente linea para utilizar la CPU\n",
    "# y comente la linea que selecciona la GPU\n",
    "#with tf.device('/CPU:0'):\n",
    "with tf.device('/GPU:0'):\n",
    "  test_loss, test_acc = model.evaluate_generator(generator=test_data_gen, \n",
    "                                                 steps = test_data_gen.n // BATCH_SIZE, \n",
    "                                                 verbose=1)\n",
    "  \n",
    "ftime = time.time() # medida final de tiempo\n",
    "print('Test terminado {} secs' .format(ftime-stime))"
   ]
  },
  {
   "cell_type": "markdown",
   "metadata": {
    "id": "ibB5xMW2eiLa"
   },
   "source": [
    "#8.Visualización de resultados\n",
    "\n",
    "Para visualizar los resultados de cada época de manera grafica, utilizaremos el paquete ```matplotlib.pyplot```\n",
    "\n",
    "Primeramente extraemos los resultados del proceso de entrenamiento, que hemos almacenado en la variable `history` devuelta por la función \n",
    "`model.fit_generator`"
   ]
  },
  {
   "cell_type": "code",
   "execution_count": 9,
   "metadata": {
    "executionInfo": {
     "elapsed": 248,
     "status": "ok",
     "timestamp": 1639054674134,
     "user": {
      "displayName": "LuisRodrigo Practica4",
      "photoUrl": "https://lh3.googleusercontent.com/a/default-user=s64",
      "userId": "00177030157574122079"
     },
     "user_tz": -60
    },
    "id": "r-8-E7goeauN"
   },
   "outputs": [],
   "source": [
    "# rendimiento\n",
    "acc = history.history['accuracy']         #entrenamiento\n",
    "val_acc = history.history['val_accuracy'] #validacion\n",
    "\n",
    "# funcion de perdidas\n",
    "loss = history.history['loss']            #entrenamiento\n",
    "val_loss = history.history['val_loss']    #validacion"
   ]
  },
  {
   "cell_type": "markdown",
   "metadata": {
    "id": "MA24QAhCfNWD"
   },
   "source": [
    "Después pintamos los resultados:"
   ]
  },
  {
   "cell_type": "code",
   "execution_count": 10,
   "metadata": {
    "colab": {
     "base_uri": "https://localhost:8080/",
     "height": 513
    },
    "executionInfo": {
     "elapsed": 486,
     "status": "ok",
     "timestamp": 1639054674612,
     "user": {
      "displayName": "LuisRodrigo Practica4",
      "photoUrl": "https://lh3.googleusercontent.com/a/default-user=s64",
      "userId": "00177030157574122079"
     },
     "user_tz": -60
    },
    "id": "g2iFM4CTfM99",
    "outputId": "b4fdd6ed-aba9-4b8b-8ff7-a0a3a877d60c"
   },
   "outputs": [
    {
     "data": {
      "image/png": "[encoded data removed]",
      "text/plain": [
       "<Figure size 576x576 with 2 Axes>"
      ]
     },
     "metadata": {
      "needs_background": "light"
     },
     "output_type": "display_data"
    }
   ],
   "source": [
    "import matplotlib.pyplot as plt\n",
    "\n",
    "plt.figure(figsize=(8, 8))\n",
    "plt.subplot(2,1, 1)\n",
    "plt.plot(range(EPOCHS), acc, label='Rendimiento train (accuracy)')\n",
    "plt.plot(range(EPOCHS), val_acc, label='Rendimiento validacion (accuracy)')\n",
    "plt.legend(loc='upper left')\n",
    "plt.title('Training and Validation Accuracy')\n",
    "\n",
    "plt.subplot(2,1, 2)\n",
    "plt.plot(range(EPOCHS), loss, label='Pérdidas entrenamiento (Loss)')\n",
    "plt.plot(range(EPOCHS), val_loss, label='Pérdidas validacion (Loss)')\n",
    "plt.legend(loc='upper left')\n",
    "plt.title('Training and Validation Loss')\n",
    "plt.xlabel('# epoca')\n",
    "\n",
    "plt.show()"
   ]
  },
  {
   "cell_type": "markdown",
   "metadata": {
    "id": "M_5l9-mgrcbI"
   },
   "source": [
    "#9.Guardar resultados\n",
    "En esta última sección, le mostraremos como puede guardar resultados:"
   ]
  },
  {
   "cell_type": "code",
   "execution_count": 11,
   "metadata": {
    "colab": {
     "base_uri": "https://localhost:8080/"
    },
    "executionInfo": {
     "elapsed": 912,
     "status": "ok",
     "timestamp": 1639054675518,
     "user": {
      "displayName": "LuisRodrigo Practica4",
      "photoUrl": "https://lh3.googleusercontent.com/a/default-user=s64",
      "userId": "00177030157574122079"
     },
     "user_tz": -60
    },
    "id": "l5EiIsVxriv9",
    "outputId": "45d9db10-6c90-4c2f-a53b-9dc59f0f6ab2"
   },
   "outputs": [
    {
     "name": "stdout",
     "output_type": "stream",
     "text": [
      "WARNING:tensorflow:From /usr/local/lib/python3.7/dist-packages/tensorflow/python/training/tracking/tracking.py:111: Model.state_updates (from tensorflow.python.keras.engine.training) is deprecated and will be removed in a future version.\n",
      "Instructions for updating:\n",
      "This property should not be used in TensorFlow 2.0, as updates are applied automatically.\n",
      "WARNING:tensorflow:From /usr/local/lib/python3.7/dist-packages/tensorflow/python/training/tracking/tracking.py:111: Layer.updates (from tensorflow.python.keras.engine.base_layer) is deprecated and will be removed in a future version.\n",
      "Instructions for updating:\n",
      "This property should not be used in TensorFlow 2.0, as updates are applied automatically.\n",
      "INFO:tensorflow:Assets written to: /content/gdrive/My Drive/dwld_dir/my_models/assets\n"
     ]
    }
   ],
   "source": [
    "#guardar el modelo de red obtenido\n",
    "#https://www.tensorflow.org/api_docs/python/tf/keras/Model\n",
    "#https://www.tensorflow.org/tutorials/keras/save_and_load\n",
    "os.chdir(dwld_dir)  \n",
    "save_dir = dwld_dir + '/my_models'\n",
    "subprocess.call([\"mkdir\",\"-p\",save_dir])  # crear directorio para guardar modelo\n",
    "model.save(\n",
    "    save_dir,\n",
    "    overwrite=True,\n",
    "    include_optimizer=True,\n",
    ")"
   ]
  },
  {
   "cell_type": "markdown",
   "metadata": {
    "id": "79W418siZuGK"
   },
   "source": [
    "#10. Probar otros tamaños de épocas"
   ]
  },
  {
   "cell_type": "code",
   "execution_count": 13,
   "metadata": {
    "executionInfo": {
     "elapsed": 2890,
     "status": "ok",
     "timestamp": 1639057000264,
     "user": {
      "displayName": "LuisRodrigo Practica4",
      "photoUrl": "https://lh3.googleusercontent.com/a/default-user=s64",
      "userId": "00177030157574122079"
     },
     "user_tz": -60
    },
    "id": "-jv-U7MYZ1o3"
   },
   "outputs": [],
   "source": [
    "\n",
    "def todo_el_proceso(EPOCHS = 30):\n",
    "  stime = time.time() # medida inicial de tiempo\n",
    "\n",
    "\n",
    "  #si tiene problemas al ejecutar con la GPU, \n",
    "  # descomente la siguiente linea para utilizar la CPU\n",
    "  # y comente la linea que selecciona la GPU\n",
    "  #with tf.device('/CPU:0'):\n",
    "  with tf.device('/GPU:0'):\n",
    "    history = model.fit_generator(\n",
    "        generator=train_data_gen,          \n",
    "        steps_per_epoch=train_data_gen.n // BATCH_SIZE,      \n",
    "        validation_data=test_data_gen,\n",
    "        validation_steps=test_data_gen.n // BATCH_SIZE,\n",
    "        epochs=EPOCHS,\n",
    "        verbose=1     \n",
    "    )  \n",
    "        \n",
    "  ftime = time.time() # medida final de tiempo\n",
    "  print('Entrenamiento terminado {} secs' .format(ftime-stime))\n",
    "\n",
    "  stime = time.time() # medida inicial de tiempo\n",
    "\n",
    "  #si tiene problemas al ejecutar con la GPU, \n",
    "  # descomente la siguiente linea para utilizar la CPU\n",
    "  # y comente la linea que selecciona la GPU\n",
    "  #with tf.device('/CPU:0'):\n",
    "  with tf.device('/GPU:0'):\n",
    "    test_loss, test_acc = model.evaluate_generator(generator=test_data_gen, \n",
    "                                                  steps = test_data_gen.n // BATCH_SIZE, \n",
    "                                                  verbose=1)\n",
    "    \n",
    "  ftime = time.time() # medida final de tiempo\n",
    "  print('Test terminado {} secs' .format(ftime-stime))\n",
    "  \n",
    "  \n",
    "  # rendimiento\n",
    "  acc = history.history['accuracy']         #entrenamiento\n",
    "  val_acc = history.history['val_accuracy'] #validacion\n",
    "\n",
    "  # funcion de perdidas\n",
    "  loss = history.history['loss']            #entrenamiento\n",
    "  val_loss = history.history['val_loss']    #validacion\n",
    "\n",
    "  plt.figure(figsize=(8, 8))\n",
    "  plt.subplot(2,1, 1)\n",
    "  plt.plot(range(EPOCHS), acc, label='Rendimiento train (accuracy)')\n",
    "  plt.plot(range(EPOCHS), val_acc, label='Rendimiento validacion (accuracy)')\n",
    "  plt.legend(loc='upper left')\n",
    "  plt.title('Training and Validation Accuracy')\n",
    "\n",
    "  plt.subplot(2,1, 2)\n",
    "  plt.plot(range(EPOCHS), loss, label='Pérdidas entrenamiento (Loss)')\n",
    "  plt.plot(range(EPOCHS), val_loss, label='Pérdidas validacion (Loss)')\n",
    "  plt.legend(loc='upper left')\n",
    "  plt.title('Training and Validation Loss')\n",
    "  plt.xlabel('# epoca')\n",
    "\n",
    "  plt.show()"
   ]
  },
  {
   "cell_type": "code",
   "execution_count": 14,
   "metadata": {
    "colab": {
     "base_uri": "https://localhost:8080/",
     "height": 1000
    },
    "executionInfo": {
     "elapsed": 180032,
     "status": "ok",
     "timestamp": 1639057213627,
     "user": {
      "displayName": "LuisRodrigo Practica4",
      "photoUrl": "https://lh3.googleusercontent.com/a/default-user=s64",
      "userId": "00177030157574122079"
     },
     "user_tz": -60
    },
    "id": "v4JlTpY0aSI9",
    "outputId": "ee72928e-69a3-46f3-be90-5d2987852dd6"
   },
   "outputs": [
    {
     "name": "stdout",
     "output_type": "stream",
     "text": [
      "Epoch 1/30\n",
      "224/224 [==============================] - 6s 29ms/step - loss: 2.2306 - accuracy: 0.2791 - val_loss: 2.4306 - val_accuracy: 0.2398\n",
      "Epoch 2/30\n",
      "224/224 [==============================] - 6s 28ms/step - loss: 2.2028 - accuracy: 0.2796 - val_loss: 2.4283 - val_accuracy: 0.2330\n",
      "Epoch 3/30\n",
      "224/224 [==============================] - 5s 23ms/step - loss: 2.1629 - accuracy: 0.3015 - val_loss: 2.3574 - val_accuracy: 0.2500\n",
      "Epoch 4/30\n",
      "224/224 [==============================] - 6s 28ms/step - loss: 2.1247 - accuracy: 0.3154 - val_loss: 2.2848 - val_accuracy: 0.2841\n",
      "Epoch 5/30\n",
      "224/224 [==============================] - 6s 28ms/step - loss: 2.0797 - accuracy: 0.3241 - val_loss: 2.3397 - val_accuracy: 0.2580\n",
      "Epoch 6/30\n",
      "224/224 [==============================] - 6s 28ms/step - loss: 2.0367 - accuracy: 0.3378 - val_loss: 2.3049 - val_accuracy: 0.2705\n",
      "Epoch 7/30\n",
      "224/224 [==============================] - 6s 28ms/step - loss: 1.9914 - accuracy: 0.3563 - val_loss: 2.2787 - val_accuracy: 0.2773\n",
      "Epoch 8/30\n",
      "224/224 [==============================] - 5s 22ms/step - loss: 1.9402 - accuracy: 0.3716 - val_loss: 2.1809 - val_accuracy: 0.3023\n",
      "Epoch 9/30\n",
      "224/224 [==============================] - 5s 22ms/step - loss: 1.8770 - accuracy: 0.3884 - val_loss: 2.4057 - val_accuracy: 0.2568\n",
      "Epoch 10/30\n",
      "224/224 [==============================] - 5s 21ms/step - loss: 1.8440 - accuracy: 0.4007 - val_loss: 2.6051 - val_accuracy: 0.2273\n",
      "Epoch 11/30\n",
      "224/224 [==============================] - 5s 22ms/step - loss: 1.7948 - accuracy: 0.4139 - val_loss: 2.1793 - val_accuracy: 0.3170\n",
      "Epoch 12/30\n",
      "224/224 [==============================] - 6s 28ms/step - loss: 1.7418 - accuracy: 0.4298 - val_loss: 2.1507 - val_accuracy: 0.2943\n",
      "Epoch 13/30\n",
      "224/224 [==============================] - 6s 28ms/step - loss: 1.6934 - accuracy: 0.4474 - val_loss: 2.0909 - val_accuracy: 0.3273\n",
      "Epoch 14/30\n",
      "224/224 [==============================] - 6s 28ms/step - loss: 1.6788 - accuracy: 0.4457 - val_loss: 2.1342 - val_accuracy: 0.3227\n",
      "Epoch 15/30\n",
      "224/224 [==============================] - 6s 28ms/step - loss: 1.6228 - accuracy: 0.4600 - val_loss: 2.1750 - val_accuracy: 0.2943\n",
      "Epoch 16/30\n",
      "224/224 [==============================] - 6s 27ms/step - loss: 1.5867 - accuracy: 0.4726 - val_loss: 2.1056 - val_accuracy: 0.3466\n",
      "Epoch 17/30\n",
      "224/224 [==============================] - 6s 28ms/step - loss: 1.5401 - accuracy: 0.4905 - val_loss: 2.1182 - val_accuracy: 0.3352\n",
      "Epoch 18/30\n",
      "224/224 [==============================] - 6s 28ms/step - loss: 1.4976 - accuracy: 0.4994 - val_loss: 2.0523 - val_accuracy: 0.3341\n",
      "Epoch 19/30\n",
      "224/224 [==============================] - 6s 28ms/step - loss: 1.4583 - accuracy: 0.5196 - val_loss: 2.1428 - val_accuracy: 0.3284\n",
      "Epoch 20/30\n",
      "224/224 [==============================] - 6s 28ms/step - loss: 1.4292 - accuracy: 0.5252 - val_loss: 2.1095 - val_accuracy: 0.3489\n",
      "Epoch 21/30\n",
      "224/224 [==============================] - 6s 27ms/step - loss: 1.3877 - accuracy: 0.5369 - val_loss: 2.2443 - val_accuracy: 0.3330\n",
      "Epoch 22/30\n",
      "224/224 [==============================] - 6s 25ms/step - loss: 1.3477 - accuracy: 0.5537 - val_loss: 2.2345 - val_accuracy: 0.3443\n",
      "Epoch 23/30\n",
      "224/224 [==============================] - 6s 28ms/step - loss: 1.3134 - accuracy: 0.5615 - val_loss: 2.1664 - val_accuracy: 0.3568\n",
      "Epoch 24/30\n",
      "224/224 [==============================] - 6s 28ms/step - loss: 1.2645 - accuracy: 0.5791 - val_loss: 2.1907 - val_accuracy: 0.3352\n",
      "Epoch 25/30\n",
      "224/224 [==============================] - 6s 26ms/step - loss: 1.2121 - accuracy: 0.5976 - val_loss: 2.2169 - val_accuracy: 0.3307\n",
      "Epoch 26/30\n",
      "224/224 [==============================] - 6s 28ms/step - loss: 1.1952 - accuracy: 0.6040 - val_loss: 2.3000 - val_accuracy: 0.3432\n",
      "Epoch 27/30\n",
      "224/224 [==============================] - 5s 24ms/step - loss: 1.1248 - accuracy: 0.6281 - val_loss: 2.2744 - val_accuracy: 0.3295\n",
      "Epoch 28/30\n",
      "224/224 [==============================] - 5s 21ms/step - loss: 1.0878 - accuracy: 0.6370 - val_loss: 2.2529 - val_accuracy: 0.3500\n",
      "Epoch 29/30\n",
      "224/224 [==============================] - 5s 22ms/step - loss: 1.0490 - accuracy: 0.6549 - val_loss: 2.6033 - val_accuracy: 0.3193\n",
      "Epoch 30/30\n",
      "224/224 [==============================] - 6s 28ms/step - loss: 1.0071 - accuracy: 0.6594 - val_loss: 2.5592 - val_accuracy: 0.3045\n",
      "Entrenamiento terminado 178.07483172416687 secs\n",
      "55/55 [==============================] - 1s 21ms/step - loss: 2.5781 - accuracy: 0.3011\n",
      "Test terminado 1.2593517303466797 secs\n"
     ]
    },
    {
     "data": {
      "image/png": "[encoded data removed]",
      "text/plain": [
       "<Figure size 576x576 with 2 Axes>"
      ]
     },
     "metadata": {
      "needs_background": "light"
     },
     "output_type": "display_data"
    }
   ],
   "source": [
    "todo_el_proceso(EPOCHS = 30)"
   ]
  },
  {
   "cell_type": "markdown",
   "metadata": {
    "id": "2-hFVatbeqOA"
   },
   "source": [
    "En el caso de 30 épocas tenemos overfitting al final ya que la puntuación no aumenta a partir de 25 épocas, de hecho empeora."
   ]
  },
  {
   "cell_type": "code",
   "execution_count": 15,
   "metadata": {
    "colab": {
     "base_uri": "https://localhost:8080/",
     "height": 1000
    },
    "executionInfo": {
     "elapsed": 302589,
     "status": "ok",
     "timestamp": 1639057516182,
     "user": {
      "displayName": "LuisRodrigo Practica4",
      "photoUrl": "https://lh3.googleusercontent.com/a/default-user=s64",
      "userId": "00177030157574122079"
     },
     "user_tz": -60
    },
    "id": "p74nhiWvaWUp",
    "outputId": "42bb1cc9-ed3b-4c6c-cf44-693f3c5e09d7"
   },
   "outputs": [
    {
     "name": "stdout",
     "output_type": "stream",
     "text": [
      "Epoch 1/50\n",
      "224/224 [==============================] - 5s 23ms/step - loss: 0.9666 - accuracy: 0.6823 - val_loss: 2.3621 - val_accuracy: 0.3625\n",
      "Epoch 2/50\n",
      "224/224 [==============================] - 6s 28ms/step - loss: 0.9365 - accuracy: 0.6874 - val_loss: 2.6185 - val_accuracy: 0.3341\n",
      "Epoch 3/50\n",
      "224/224 [==============================] - 6s 27ms/step - loss: 0.8828 - accuracy: 0.7078 - val_loss: 2.4804 - val_accuracy: 0.3500\n",
      "Epoch 4/50\n",
      "224/224 [==============================] - 6s 27ms/step - loss: 0.8279 - accuracy: 0.7271 - val_loss: 2.7582 - val_accuracy: 0.3091\n",
      "Epoch 5/50\n",
      "224/224 [==============================] - 6s 27ms/step - loss: 0.8081 - accuracy: 0.7332 - val_loss: 2.6447 - val_accuracy: 0.3352\n",
      "Epoch 6/50\n",
      "224/224 [==============================] - 6s 28ms/step - loss: 0.7469 - accuracy: 0.7478 - val_loss: 2.8084 - val_accuracy: 0.3239\n",
      "Epoch 7/50\n",
      "224/224 [==============================] - 6s 28ms/step - loss: 0.7096 - accuracy: 0.7581 - val_loss: 2.8860 - val_accuracy: 0.3375\n",
      "Epoch 8/50\n",
      "224/224 [==============================] - 6s 28ms/step - loss: 0.6636 - accuracy: 0.7768 - val_loss: 2.8408 - val_accuracy: 0.3364\n",
      "Epoch 9/50\n",
      "224/224 [==============================] - 6s 28ms/step - loss: 0.6186 - accuracy: 0.7908 - val_loss: 2.9753 - val_accuracy: 0.3489\n",
      "Epoch 10/50\n",
      "224/224 [==============================] - 6s 28ms/step - loss: 0.5930 - accuracy: 0.8062 - val_loss: 3.0397 - val_accuracy: 0.3318\n",
      "Epoch 11/50\n",
      "224/224 [==============================] - 6s 28ms/step - loss: 0.5610 - accuracy: 0.8163 - val_loss: 3.2686 - val_accuracy: 0.3273\n",
      "Epoch 12/50\n",
      "224/224 [==============================] - 6s 28ms/step - loss: 0.5263 - accuracy: 0.8191 - val_loss: 3.2900 - val_accuracy: 0.3295\n",
      "Epoch 13/50\n",
      "224/224 [==============================] - 6s 28ms/step - loss: 0.4698 - accuracy: 0.8470 - val_loss: 3.4037 - val_accuracy: 0.3148\n",
      "Epoch 14/50\n",
      "224/224 [==============================] - 6s 28ms/step - loss: 0.4383 - accuracy: 0.8546 - val_loss: 3.4214 - val_accuracy: 0.3034\n",
      "Epoch 15/50\n",
      "224/224 [==============================] - 6s 28ms/step - loss: 0.4317 - accuracy: 0.8593 - val_loss: 3.4727 - val_accuracy: 0.3261\n",
      "Epoch 16/50\n",
      "224/224 [==============================] - 6s 26ms/step - loss: 0.3655 - accuracy: 0.8789 - val_loss: 3.6805 - val_accuracy: 0.3261\n",
      "Epoch 17/50\n",
      "224/224 [==============================] - 6s 27ms/step - loss: 0.3346 - accuracy: 0.8887 - val_loss: 3.8325 - val_accuracy: 0.3398\n",
      "Epoch 18/50\n",
      "224/224 [==============================] - 6s 27ms/step - loss: 0.3575 - accuracy: 0.8792 - val_loss: 4.4278 - val_accuracy: 0.2727\n",
      "Epoch 19/50\n",
      "224/224 [==============================] - 5s 22ms/step - loss: 0.3027 - accuracy: 0.9030 - val_loss: 3.8854 - val_accuracy: 0.3125\n",
      "Epoch 20/50\n",
      "224/224 [==============================] - 5s 21ms/step - loss: 0.2777 - accuracy: 0.9158 - val_loss: 3.9125 - val_accuracy: 0.3227\n",
      "Epoch 21/50\n",
      "224/224 [==============================] - 5s 22ms/step - loss: 0.2367 - accuracy: 0.9253 - val_loss: 4.2906 - val_accuracy: 0.3102\n",
      "Epoch 22/50\n",
      "224/224 [==============================] - 5s 21ms/step - loss: 0.2180 - accuracy: 0.9304 - val_loss: 4.4540 - val_accuracy: 0.3159\n",
      "Epoch 23/50\n",
      "224/224 [==============================] - 5s 22ms/step - loss: 0.1984 - accuracy: 0.9385 - val_loss: 4.4522 - val_accuracy: 0.3205\n",
      "Epoch 24/50\n",
      "224/224 [==============================] - 5s 22ms/step - loss: 0.1668 - accuracy: 0.9494 - val_loss: 4.3429 - val_accuracy: 0.3352\n",
      "Epoch 25/50\n",
      "224/224 [==============================] - 5s 22ms/step - loss: 0.2029 - accuracy: 0.9348 - val_loss: 4.6801 - val_accuracy: 0.3182\n",
      "Epoch 26/50\n",
      "224/224 [==============================] - 6s 26ms/step - loss: 0.2286 - accuracy: 0.9262 - val_loss: 4.5301 - val_accuracy: 0.3239\n",
      "Epoch 27/50\n",
      "224/224 [==============================] - 6s 28ms/step - loss: 0.1349 - accuracy: 0.9639 - val_loss: 4.8295 - val_accuracy: 0.3148\n",
      "Epoch 28/50\n",
      "224/224 [==============================] - 6s 28ms/step - loss: 0.1192 - accuracy: 0.9648 - val_loss: 4.9591 - val_accuracy: 0.3239\n",
      "Epoch 29/50\n",
      "224/224 [==============================] - 6s 28ms/step - loss: 0.0980 - accuracy: 0.9757 - val_loss: 4.9373 - val_accuracy: 0.3136\n",
      "Epoch 30/50\n",
      "224/224 [==============================] - 5s 23ms/step - loss: 0.0567 - accuracy: 0.9883 - val_loss: 5.0653 - val_accuracy: 0.3170\n",
      "Epoch 31/50\n",
      "224/224 [==============================] - 5s 23ms/step - loss: 0.0575 - accuracy: 0.9871 - val_loss: 5.3214 - val_accuracy: 0.3307\n",
      "Epoch 32/50\n",
      "224/224 [==============================] - 6s 29ms/step - loss: 0.0465 - accuracy: 0.9913 - val_loss: 5.2571 - val_accuracy: 0.3227\n",
      "Epoch 33/50\n",
      "224/224 [==============================] - 6s 28ms/step - loss: 0.0579 - accuracy: 0.9857 - val_loss: 5.2651 - val_accuracy: 0.3261\n",
      "Epoch 34/50\n",
      "224/224 [==============================] - 6s 28ms/step - loss: 0.0566 - accuracy: 0.9860 - val_loss: 5.4414 - val_accuracy: 0.3170\n",
      "Epoch 35/50\n",
      "224/224 [==============================] - 6s 28ms/step - loss: 0.0576 - accuracy: 0.9857 - val_loss: 5.6559 - val_accuracy: 0.3023\n",
      "Epoch 36/50\n",
      "224/224 [==============================] - 6s 28ms/step - loss: 0.0763 - accuracy: 0.9807 - val_loss: 5.4943 - val_accuracy: 0.3227\n",
      "Epoch 37/50\n",
      "224/224 [==============================] - 6s 28ms/step - loss: 0.0377 - accuracy: 0.9916 - val_loss: 5.7290 - val_accuracy: 0.3182\n",
      "Epoch 38/50\n",
      "224/224 [==============================] - 6s 27ms/step - loss: 0.0282 - accuracy: 0.9947 - val_loss: 5.7785 - val_accuracy: 0.3193\n",
      "Epoch 39/50\n",
      "224/224 [==============================] - 6s 28ms/step - loss: 0.0449 - accuracy: 0.9897 - val_loss: 5.7532 - val_accuracy: 0.3170\n",
      "Epoch 40/50\n",
      "224/224 [==============================] - 6s 28ms/step - loss: 0.0297 - accuracy: 0.9944 - val_loss: 5.9038 - val_accuracy: 0.3205\n",
      "Epoch 41/50\n",
      "224/224 [==============================] - 6s 28ms/step - loss: 0.0254 - accuracy: 0.9958 - val_loss: 5.9251 - val_accuracy: 0.3193\n",
      "Epoch 42/50\n",
      "224/224 [==============================] - 6s 25ms/step - loss: 0.0202 - accuracy: 0.9966 - val_loss: 6.0515 - val_accuracy: 0.3102\n",
      "Epoch 43/50\n",
      "224/224 [==============================] - 6s 28ms/step - loss: 0.0219 - accuracy: 0.9961 - val_loss: 6.0221 - val_accuracy: 0.3250\n",
      "Epoch 44/50\n",
      "224/224 [==============================] - 6s 28ms/step - loss: 0.0218 - accuracy: 0.9947 - val_loss: 6.0648 - val_accuracy: 0.3193\n",
      "Epoch 45/50\n",
      "224/224 [==============================] - 6s 28ms/step - loss: 0.0140 - accuracy: 0.9983 - val_loss: 6.2159 - val_accuracy: 0.3273\n",
      "Epoch 46/50\n",
      "224/224 [==============================] - 6s 28ms/step - loss: 0.0190 - accuracy: 0.9961 - val_loss: 6.1891 - val_accuracy: 0.3193\n",
      "Epoch 47/50\n",
      "224/224 [==============================] - 6s 28ms/step - loss: 0.0139 - accuracy: 0.9983 - val_loss: 6.1751 - val_accuracy: 0.3250\n",
      "Epoch 48/50\n",
      "224/224 [==============================] - 6s 28ms/step - loss: 0.0094 - accuracy: 0.9994 - val_loss: 6.3903 - val_accuracy: 0.3170\n",
      "Epoch 49/50\n",
      "224/224 [==============================] - 6s 28ms/step - loss: 0.0123 - accuracy: 0.9983 - val_loss: 6.3488 - val_accuracy: 0.3284\n",
      "Epoch 50/50\n",
      "224/224 [==============================] - 6s 28ms/step - loss: 0.0099 - accuracy: 0.9992 - val_loss: 6.3863 - val_accuracy: 0.3136\n",
      "Entrenamiento terminado 300.3964521884918 secs\n",
      "55/55 [==============================] - 1s 21ms/step - loss: 6.4595 - accuracy: 0.3114\n",
      "Test terminado 1.2306609153747559 secs\n"
     ]
    },
    {
     "data": {
      "image/png": "[encoded data removed]",
      "text/plain": [
       "<Figure size 576x576 with 2 Axes>"
      ]
     },
     "metadata": {
      "needs_background": "light"
     },
     "output_type": "display_data"
    }
   ],
   "source": [
    "todo_el_proceso(EPOCHS = 50)"
   ]
  },
  {
   "cell_type": "markdown",
   "metadata": {
    "id": "7TQoeUpcffq6"
   },
   "source": [
    "Este ejemplo es aún más claro de como incurre en overfitting, cuando el dataset de entrenamiento esta consiguiendo prácticamente puntuación máxima el de validación va empeorando, en la gráfica de loss se puede observar un compartimiento muy similar."
   ]
  }
 ],
 "metadata": {
  "accelerator": "GPU",
  "colab": {
   "collapsed_sections": [],
   "name": "p4_tareaD_entrenamiento.ipynb",
   "provenance": [
    {
     "file_id": "1TF_7ukYDKV2Kqy8C3Uy6PFGmNc0hZSpF",
     "timestamp": 1638208908520
    },
    {
     "file_id": "1Elun_z8pzbnmf8dH0X_NWXPYFpsv2jLq",
     "timestamp": 1574961184465
    },
    {
     "file_id": "1sWg5953I_fNI3hagSrGvo7-kmwaW7DG0",
     "timestamp": 1574944489901
    }
   ],
   "toc_visible": true
  },
  "kernelspec": {
   "display_name": "Python 3",
   "language": "python",
   "name": "python3"
  },
  "language_info": {
   "codemirror_mode": {
    "name": "ipython",
    "version": 3
   },
   "file_extension": ".py",
   "mimetype": "text/x-python",
   "name": "python",
   "nbconvert_exporter": "python",
   "pygments_lexer": "ipython3",
   "version": "3.6.8"
  }
 },
 "nbformat": 4,
 "nbformat_minor": 1
}
